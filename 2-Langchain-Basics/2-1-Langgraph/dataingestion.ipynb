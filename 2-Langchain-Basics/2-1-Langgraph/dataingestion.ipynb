{
 "cells": [
  {
   "cell_type": "code",
   "execution_count": null,
   "metadata": {},
   "outputs": [],
   "source": [
    "#Data-Loader"
   ]
  },
  {
   "cell_type": "code",
   "execution_count": null,
   "metadata": {},
   "outputs": [],
   "source": [
    "#Web Based Loader\n",
    "from langchain_community.document_loaders"
   ]
  },
  {
   "cell_type": "code",
   "execution_count": null,
   "metadata": {},
   "outputs": [],
   "source": [
    "#arxiv\n",
    "from langchain_community.document_loaders import ArxivLoader\n",
    "docs="
   ]
  },
  {
   "cell_type": "code",
   "execution_count": null,
   "metadata": {},
   "outputs": [],
   "source": [
    "#text loader\n",
    "from langchain_community.document_loaders import WikiP\n"
   ]
  },
  {
   "cell_type": "code",
   "execution_count": null,
   "metadata": {},
   "outputs": [],
   "source": [
    "#Reading PDF\n",
    "from langchain_community.document_loaders import PyPDFLoader\n",
    "docs=PyPDFLoader(file_path=\"data/data.pdf\")\n",
    "data=docs.load()\n",
    "print(data)\n",
    "\n",
    "\n",
    "#Assignment\n",
    "#Text-Loader\n",
    "#Document-Loader\n",
    "\n"
   ]
  }
 ],
 "metadata": {
  "language_info": {
   "name": "python"
  }
 },
 "nbformat": 4,
 "nbformat_minor": 2
}
