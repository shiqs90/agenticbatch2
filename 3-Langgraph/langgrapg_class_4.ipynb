{
 "cells": [
  {
   "cell_type": "code",
   "execution_count": 49,
   "id": "9aa63455",
   "metadata": {},
   "outputs": [
    {
     "name": "stdout",
     "output_type": "stream",
     "text": [
      "all Ok\n"
     ]
    }
   ],
   "source": [
    "print(\"all Ok\")"
   ]
  },
  {
   "cell_type": "code",
   "execution_count": 5,
   "id": "5f74b464",
   "metadata": {},
   "outputs": [
    {
     "name": "stderr",
     "output_type": "stream",
     "text": [
      "/Users/shikhasingh/Documents/Code/agenticbatch2/venv/lib/python3.12/site-packages/langsmith/client.py:272: LangSmithMissingAPIKeyWarning: API key must be provided when using hosted LangSmith API\n",
      "  warnings.warn(\n",
      "Failed to multipart ingest runs: langsmith.utils.LangSmithAuthError: Authentication failed for https://api.smith.langchain.com/runs/multipart. HTTPError('401 Client Error: Unauthorized for url: https://api.smith.langchain.com/runs/multipart', '{\"error\":\"Unauthorized\"}\\n')trace=fbdb3f20-9135-46b7-b3d7-bb59b19332b8,id=fbdb3f20-9135-46b7-b3d7-bb59b19332b8\n"
     ]
    },
    {
     "name": "stderr",
     "output_type": "stream",
     "text": [
      "Failed to send compressed multipart ingest: langsmith.utils.LangSmithAuthError: Authentication failed for https://api.smith.langchain.com/runs/multipart. HTTPError('401 Client Error: Unauthorized for url: https://api.smith.langchain.com/runs/multipart', '{\"error\":\"Unauthorized\"}\\n')trace=fbdb3f20-9135-46b7-b3d7-bb59b19332b8,id=fbdb3f20-9135-46b7-b3d7-bb59b19332b8\n",
      "Failed to send compressed multipart ingest: langsmith.utils.LangSmithAuthError: Authentication failed for https://api.smith.langchain.com/runs/multipart. HTTPError('401 Client Error: Unauthorized for url: https://api.smith.langchain.com/runs/multipart', '{\"error\":\"Unauthorized\"}\\n')trace=2ba5934d-484d-439b-9447-b72b9a95874a,id=2ba5934d-484d-439b-9447-b72b9a95874a\n",
      "Failed to send compressed multipart ingest: langsmith.utils.LangSmithAuthError: Authentication failed for https://api.smith.langchain.com/runs/multipart. HTTPError('401 Client Error: Unauthorized for url: https://api.smith.langchain.com/runs/multipart', '{\"error\":\"Unauthorized\"}\\n')trace=2ba5934d-484d-439b-9447-b72b9a95874a,id=2ba5934d-484d-439b-9447-b72b9a95874a\n",
      "Failed to send compressed multipart ingest: langsmith.utils.LangSmithAuthError: Authentication failed for https://api.smith.langchain.com/runs/multipart. HTTPError('401 Client Error: Unauthorized for url: https://api.smith.langchain.com/runs/multipart', '{\"error\":\"Unauthorized\"}\\n')trace=f0de5808-25a4-46ec-bc18-5d7284104195,id=f0de5808-25a4-46ec-bc18-5d7284104195; trace=f0de5808-25a4-46ec-bc18-5d7284104195,id=f0de5808-25a4-46ec-bc18-5d7284104195\n",
      "Failed to send compressed multipart ingest: langsmith.utils.LangSmithAuthError: Authentication failed for https://api.smith.langchain.com/runs/multipart. HTTPError('401 Client Error: Unauthorized for url: https://api.smith.langchain.com/runs/multipart', '{\"error\":\"Unauthorized\"}\\n')trace=a5f6dc4a-8e53-462c-b339-23bf179e105d,id=a5f6dc4a-8e53-462c-b339-23bf179e105d\n",
      "Failed to send compressed multipart ingest: langsmith.utils.LangSmithAuthError: Authentication failed for https://api.smith.langchain.com/runs/multipart. HTTPError('401 Client Error: Unauthorized for url: https://api.smith.langchain.com/runs/multipart', '{\"error\":\"Unauthorized\"}\\n')trace=a5f6dc4a-8e53-462c-b339-23bf179e105d,id=a5f6dc4a-8e53-462c-b339-23bf179e105d\n",
      "Failed to send compressed multipart ingest: langsmith.utils.LangSmithAuthError: Authentication failed for https://api.smith.langchain.com/runs/multipart. HTTPError('401 Client Error: Unauthorized for url: https://api.smith.langchain.com/runs/multipart', '{\"error\":\"Unauthorized\"}\\n')trace=baff1d53-5163-42af-b069-b736e5920d6a,id=baff1d53-5163-42af-b069-b736e5920d6a; trace=baff1d53-5163-42af-b069-b736e5920d6a,id=f60586b8-0134-4bcc-a050-0acf62ca2e49; trace=baff1d53-5163-42af-b069-b736e5920d6a,id=3b8cf9d3-b172-43a3-a086-4691764cca2b\n",
      "Failed to send compressed multipart ingest: langsmith.utils.LangSmithAuthError: Authentication failed for https://api.smith.langchain.com/runs/multipart. HTTPError('401 Client Error: Unauthorized for url: https://api.smith.langchain.com/runs/multipart', '{\"error\":\"Unauthorized\"}\\n')trace=baff1d53-5163-42af-b069-b736e5920d6a,id=3b8cf9d3-b172-43a3-a086-4691764cca2b; trace=baff1d53-5163-42af-b069-b736e5920d6a,id=3249446c-620e-489d-ba22-7e854880e079; trace=baff1d53-5163-42af-b069-b736e5920d6a,id=3249446c-620e-489d-ba22-7e854880e079; trace=baff1d53-5163-42af-b069-b736e5920d6a,id=f60586b8-0134-4bcc-a050-0acf62ca2e49; trace=baff1d53-5163-42af-b069-b736e5920d6a,id=c32ab73e-d7fa-4c72-8bfd-70f6045456c1; trace=baff1d53-5163-42af-b069-b736e5920d6a,id=b815f6ba-486f-427f-9409-14d63228ade2\n",
      "Failed to send compressed multipart ingest: langsmith.utils.LangSmithAuthError: Authentication failed for https://api.smith.langchain.com/runs/multipart. HTTPError('401 Client Error: Unauthorized for url: https://api.smith.langchain.com/runs/multipart', '{\"error\":\"Unauthorized\"}\\n')trace=baff1d53-5163-42af-b069-b736e5920d6a,id=b815f6ba-486f-427f-9409-14d63228ade2; trace=baff1d53-5163-42af-b069-b736e5920d6a,id=c32ab73e-d7fa-4c72-8bfd-70f6045456c1; trace=baff1d53-5163-42af-b069-b736e5920d6a,id=93dd67d5-4ba8-4dbb-9f10-c7f9ae0794df; trace=baff1d53-5163-42af-b069-b736e5920d6a,id=36d1e4ed-b33d-4d14-8414-c0da3a2cab7e\n",
      "Failed to send compressed multipart ingest: langsmith.utils.LangSmithAuthError: Authentication failed for https://api.smith.langchain.com/runs/multipart. HTTPError('401 Client Error: Unauthorized for url: https://api.smith.langchain.com/runs/multipart', '{\"error\":\"Unauthorized\"}\\n')trace=baff1d53-5163-42af-b069-b736e5920d6a,id=36d1e4ed-b33d-4d14-8414-c0da3a2cab7e; trace=baff1d53-5163-42af-b069-b736e5920d6a,id=dd5aa534-e8c2-4dc0-a2e0-e6160aa0d2d9; trace=baff1d53-5163-42af-b069-b736e5920d6a,id=dd5aa534-e8c2-4dc0-a2e0-e6160aa0d2d9; trace=baff1d53-5163-42af-b069-b736e5920d6a,id=93dd67d5-4ba8-4dbb-9f10-c7f9ae0794df; trace=baff1d53-5163-42af-b069-b736e5920d6a,id=baff1d53-5163-42af-b069-b736e5920d6a\n",
      "Failed to send compressed multipart ingest: langsmith.utils.LangSmithAuthError: Authentication failed for https://api.smith.langchain.com/runs/multipart. HTTPError('401 Client Error: Unauthorized for url: https://api.smith.langchain.com/runs/multipart', '{\"error\":\"Unauthorized\"}\\n')trace=57f0ab18-7934-402f-bbfe-508f61828577,id=57f0ab18-7934-402f-bbfe-508f61828577; trace=57f0ab18-7934-402f-bbfe-508f61828577,id=8f8217dc-4828-48fa-baa6-c3c9ab3860df; trace=57f0ab18-7934-402f-bbfe-508f61828577,id=4acddb65-c72b-45de-a771-8dc15712860c\n",
      "Failed to send compressed multipart ingest: langsmith.utils.LangSmithAuthError: Authentication failed for https://api.smith.langchain.com/runs/multipart. HTTPError('401 Client Error: Unauthorized for url: https://api.smith.langchain.com/runs/multipart', '{\"error\":\"Unauthorized\"}\\n')trace=57f0ab18-7934-402f-bbfe-508f61828577,id=4acddb65-c72b-45de-a771-8dc15712860c; trace=57f0ab18-7934-402f-bbfe-508f61828577,id=43227711-6a25-4200-8ca9-6fbea619d835; trace=57f0ab18-7934-402f-bbfe-508f61828577,id=43227711-6a25-4200-8ca9-6fbea619d835; trace=57f0ab18-7934-402f-bbfe-508f61828577,id=8f8217dc-4828-48fa-baa6-c3c9ab3860df; trace=57f0ab18-7934-402f-bbfe-508f61828577,id=81d3853b-fabe-41b5-af58-87672a6a046f; trace=57f0ab18-7934-402f-bbfe-508f61828577,id=7e039a87-35f8-4b5f-a05c-3e96db0b6000; trace=57f0ab18-7934-402f-bbfe-508f61828577,id=7e039a87-35f8-4b5f-a05c-3e96db0b6000; trace=57f0ab18-7934-402f-bbfe-508f61828577,id=81d3853b-fabe-41b5-af58-87672a6a046f; trace=57f0ab18-7934-402f-bbfe-508f61828577,id=e2ca04e1-e085-497e-a922-dfb8d68d89aa; trace=57f0ab18-7934-402f-bbfe-508f61828577,id=bf0b1db2-214a-460c-9e6a-c19aab3f7d98\n",
      "Failed to send compressed multipart ingest: langsmith.utils.LangSmithAuthError: Authentication failed for https://api.smith.langchain.com/runs/multipart. HTTPError('401 Client Error: Unauthorized for url: https://api.smith.langchain.com/runs/multipart', '{\"error\":\"Unauthorized\"}\\n')trace=57f0ab18-7934-402f-bbfe-508f61828577,id=bf0b1db2-214a-460c-9e6a-c19aab3f7d98; trace=57f0ab18-7934-402f-bbfe-508f61828577,id=1ac67087-0186-4e33-95af-3be6a914ac3d; trace=57f0ab18-7934-402f-bbfe-508f61828577,id=1ac67087-0186-4e33-95af-3be6a914ac3d; trace=57f0ab18-7934-402f-bbfe-508f61828577,id=e2ca04e1-e085-497e-a922-dfb8d68d89aa; trace=57f0ab18-7934-402f-bbfe-508f61828577,id=ca34e37b-ab9f-4cea-830f-f256d4ab01db; trace=57f0ab18-7934-402f-bbfe-508f61828577,id=29ab4e10-7f87-4683-8c36-18b916647be5\n",
      "Failed to send compressed multipart ingest: langsmith.utils.LangSmithAuthError: Authentication failed for https://api.smith.langchain.com/runs/multipart. HTTPError('401 Client Error: Unauthorized for url: https://api.smith.langchain.com/runs/multipart', '{\"error\":\"Unauthorized\"}\\n')trace=57f0ab18-7934-402f-bbfe-508f61828577,id=29ab4e10-7f87-4683-8c36-18b916647be5; trace=57f0ab18-7934-402f-bbfe-508f61828577,id=ca34e37b-ab9f-4cea-830f-f256d4ab01db; trace=57f0ab18-7934-402f-bbfe-508f61828577,id=044e158e-eda9-410e-ab58-d7eba577e891; trace=57f0ab18-7934-402f-bbfe-508f61828577,id=ae85f204-4379-4235-89bc-75318801c2d6\n",
      "Failed to send compressed multipart ingest: langsmith.utils.LangSmithAuthError: Authentication failed for https://api.smith.langchain.com/runs/multipart. HTTPError('401 Client Error: Unauthorized for url: https://api.smith.langchain.com/runs/multipart', '{\"error\":\"Unauthorized\"}\\n')trace=57f0ab18-7934-402f-bbfe-508f61828577,id=ae85f204-4379-4235-89bc-75318801c2d6; trace=57f0ab18-7934-402f-bbfe-508f61828577,id=4b781575-9f33-45e4-b395-727c406e0cd4; trace=57f0ab18-7934-402f-bbfe-508f61828577,id=4b781575-9f33-45e4-b395-727c406e0cd4; trace=57f0ab18-7934-402f-bbfe-508f61828577,id=044e158e-eda9-410e-ab58-d7eba577e891; trace=57f0ab18-7934-402f-bbfe-508f61828577,id=06b98edf-b46f-4ee4-b5f8-40a99c3b0bf2; trace=57f0ab18-7934-402f-bbfe-508f61828577,id=f2903c40-532f-43c9-956e-b70086d4de6c; trace=57f0ab18-7934-402f-bbfe-508f61828577,id=f2903c40-532f-43c9-956e-b70086d4de6c; trace=57f0ab18-7934-402f-bbfe-508f61828577,id=06b98edf-b46f-4ee4-b5f8-40a99c3b0bf2; trace=57f0ab18-7934-402f-bbfe-508f61828577,id=5f848123-4cd6-4f92-b05e-33d2a8c5b1a8; trace=57f0ab18-7934-402f-bbfe-508f61828577,id=aab168e3-86fb-4493-8f1a-3ba6d9d1640d; trace=57f0ab18-7934-402f-bbfe-508f61828577,id=aab168e3-86fb-4493-8f1a-3ba6d9d1640d; trace=57f0ab18-7934-402f-bbfe-508f61828577,id=7baafdae-574c-4bcc-859a-3e66c21d3f4d; trace=57f0ab18-7934-402f-bbfe-508f61828577,id=7baafdae-574c-4bcc-859a-3e66c21d3f4d; trace=57f0ab18-7934-402f-bbfe-508f61828577,id=5f848123-4cd6-4f92-b05e-33d2a8c5b1a8; trace=57f0ab18-7934-402f-bbfe-508f61828577,id=cdbe58c9-849b-40c2-97a3-03f8a98f6afe; trace=57f0ab18-7934-402f-bbfe-508f61828577,id=72bf335a-aded-4341-b1a0-85e18e65be20; trace=57f0ab18-7934-402f-bbfe-508f61828577,id=72bf335a-aded-4341-b1a0-85e18e65be20; trace=57f0ab18-7934-402f-bbfe-508f61828577,id=cdbe58c9-849b-40c2-97a3-03f8a98f6afe; trace=57f0ab18-7934-402f-bbfe-508f61828577,id=e5e352b2-6455-4952-b690-9c2b1b0e310e; trace=57f0ab18-7934-402f-bbfe-508f61828577,id=9d89ce7b-a034-4d7b-aabf-d26aef997c17\n",
      "Failed to send compressed multipart ingest: langsmith.utils.LangSmithAuthError: Authentication failed for https://api.smith.langchain.com/runs/multipart. HTTPError('401 Client Error: Unauthorized for url: https://api.smith.langchain.com/runs/multipart', '{\"error\":\"Unauthorized\"}\\n')trace=57f0ab18-7934-402f-bbfe-508f61828577,id=9d89ce7b-a034-4d7b-aabf-d26aef997c17; trace=57f0ab18-7934-402f-bbfe-508f61828577,id=5bca2eb8-308f-4611-8736-af4c72f344e1; trace=57f0ab18-7934-402f-bbfe-508f61828577,id=5bca2eb8-308f-4611-8736-af4c72f344e1; trace=57f0ab18-7934-402f-bbfe-508f61828577,id=e5e352b2-6455-4952-b690-9c2b1b0e310e; trace=57f0ab18-7934-402f-bbfe-508f61828577,id=abadb384-7667-48c3-a3c4-139296b5ce2d; trace=57f0ab18-7934-402f-bbfe-508f61828577,id=b43f8dbb-0e78-4f70-8d50-688800e5bb6b; trace=57f0ab18-7934-402f-bbfe-508f61828577,id=b43f8dbb-0e78-4f70-8d50-688800e5bb6b; trace=57f0ab18-7934-402f-bbfe-508f61828577,id=abadb384-7667-48c3-a3c4-139296b5ce2d; trace=57f0ab18-7934-402f-bbfe-508f61828577,id=c04eb1eb-99bb-40ae-af16-f87549d6ad3c; trace=57f0ab18-7934-402f-bbfe-508f61828577,id=d4753331-8f47-4de4-8b97-dd5954186657\n",
      "Failed to send compressed multipart ingest: langsmith.utils.LangSmithAuthError: Authentication failed for https://api.smith.langchain.com/runs/multipart. HTTPError('401 Client Error: Unauthorized for url: https://api.smith.langchain.com/runs/multipart', '{\"error\":\"Unauthorized\"}\\n')trace=57f0ab18-7934-402f-bbfe-508f61828577,id=d4753331-8f47-4de4-8b97-dd5954186657; trace=57f0ab18-7934-402f-bbfe-508f61828577,id=6002a1fc-cfe0-4599-b947-c41e35f9086e; trace=57f0ab18-7934-402f-bbfe-508f61828577,id=6002a1fc-cfe0-4599-b947-c41e35f9086e; trace=57f0ab18-7934-402f-bbfe-508f61828577,id=c04eb1eb-99bb-40ae-af16-f87549d6ad3c; trace=57f0ab18-7934-402f-bbfe-508f61828577,id=10cc7747-ea48-426c-98c3-3a65537fcc0e; trace=57f0ab18-7934-402f-bbfe-508f61828577,id=918e9446-c4ad-4e2a-81a9-ec454779bf35\n",
      "Failed to send compressed multipart ingest: langsmith.utils.LangSmithAuthError: Authentication failed for https://api.smith.langchain.com/runs/multipart. HTTPError('401 Client Error: Unauthorized for url: https://api.smith.langchain.com/runs/multipart', '{\"error\":\"Unauthorized\"}\\n')trace=57f0ab18-7934-402f-bbfe-508f61828577,id=918e9446-c4ad-4e2a-81a9-ec454779bf35; trace=57f0ab18-7934-402f-bbfe-508f61828577,id=10cc7747-ea48-426c-98c3-3a65537fcc0e; trace=57f0ab18-7934-402f-bbfe-508f61828577,id=003d3aaf-fbb7-4bf5-8faa-734cc2ae3dfe; trace=57f0ab18-7934-402f-bbfe-508f61828577,id=320fb04e-15b9-4610-ad97-c53326371099; trace=57f0ab18-7934-402f-bbfe-508f61828577,id=320fb04e-15b9-4610-ad97-c53326371099; trace=57f0ab18-7934-402f-bbfe-508f61828577,id=e30cbeba-fe5d-4a46-8156-4729f285c87d; trace=57f0ab18-7934-402f-bbfe-508f61828577,id=e30cbeba-fe5d-4a46-8156-4729f285c87d; trace=57f0ab18-7934-402f-bbfe-508f61828577,id=003d3aaf-fbb7-4bf5-8faa-734cc2ae3dfe; trace=57f0ab18-7934-402f-bbfe-508f61828577,id=25cd4951-5afc-4ee1-9904-f4ba7dec14dc; trace=57f0ab18-7934-402f-bbfe-508f61828577,id=e90008bb-fd01-4ced-9e6c-9e0e3be5f54c; trace=57f0ab18-7934-402f-bbfe-508f61828577,id=e90008bb-fd01-4ced-9e6c-9e0e3be5f54c; trace=57f0ab18-7934-402f-bbfe-508f61828577,id=25cd4951-5afc-4ee1-9904-f4ba7dec14dc; trace=57f0ab18-7934-402f-bbfe-508f61828577,id=8cb61416-d6e9-41cf-ba1d-3c1f3b158b1e; trace=57f0ab18-7934-402f-bbfe-508f61828577,id=7714c956-ecaf-4384-b0ac-945bf80021b7\n",
      "Failed to send compressed multipart ingest: langsmith.utils.LangSmithAuthError: Authentication failed for https://api.smith.langchain.com/runs/multipart. HTTPError('401 Client Error: Unauthorized for url: https://api.smith.langchain.com/runs/multipart', '{\"error\":\"Unauthorized\"}\\n')trace=57f0ab18-7934-402f-bbfe-508f61828577,id=7714c956-ecaf-4384-b0ac-945bf80021b7; trace=57f0ab18-7934-402f-bbfe-508f61828577,id=72ff4707-ed0b-41b2-90f9-d2d6b515b4ae; trace=57f0ab18-7934-402f-bbfe-508f61828577,id=72ff4707-ed0b-41b2-90f9-d2d6b515b4ae; trace=57f0ab18-7934-402f-bbfe-508f61828577,id=8cb61416-d6e9-41cf-ba1d-3c1f3b158b1e; trace=57f0ab18-7934-402f-bbfe-508f61828577,id=e0665a3c-d57e-4fb1-9cad-aadd7b656f0c; trace=57f0ab18-7934-402f-bbfe-508f61828577,id=d1f27858-95e3-4674-a3df-f2076664b51d\n",
      "Failed to send compressed multipart ingest: langsmith.utils.LangSmithAuthError: Authentication failed for https://api.smith.langchain.com/runs/multipart. HTTPError('401 Client Error: Unauthorized for url: https://api.smith.langchain.com/runs/multipart', '{\"error\":\"Unauthorized\"}\\n')trace=57f0ab18-7934-402f-bbfe-508f61828577,id=d1f27858-95e3-4674-a3df-f2076664b51d; trace=57f0ab18-7934-402f-bbfe-508f61828577,id=e0665a3c-d57e-4fb1-9cad-aadd7b656f0c; trace=57f0ab18-7934-402f-bbfe-508f61828577,id=219f1157-62cc-4657-9421-6dfad5a1a911; trace=57f0ab18-7934-402f-bbfe-508f61828577,id=007899bc-cb9f-44d2-9cab-31784e4bb3b8\n",
      "Failed to send compressed multipart ingest: langsmith.utils.LangSmithAuthError: Authentication failed for https://api.smith.langchain.com/runs/multipart. HTTPError('401 Client Error: Unauthorized for url: https://api.smith.langchain.com/runs/multipart', '{\"error\":\"Unauthorized\"}\\n')trace=57f0ab18-7934-402f-bbfe-508f61828577,id=007899bc-cb9f-44d2-9cab-31784e4bb3b8; trace=57f0ab18-7934-402f-bbfe-508f61828577,id=06ac2498-d2d1-42c4-9dcc-9efc9a1d5a8e; trace=57f0ab18-7934-402f-bbfe-508f61828577,id=06ac2498-d2d1-42c4-9dcc-9efc9a1d5a8e; trace=57f0ab18-7934-402f-bbfe-508f61828577,id=219f1157-62cc-4657-9421-6dfad5a1a911; trace=57f0ab18-7934-402f-bbfe-508f61828577,id=82f4f9ec-f106-4c9e-bba8-cd568d95639b; trace=57f0ab18-7934-402f-bbfe-508f61828577,id=750297d6-7e4b-4f5f-b066-ce18481e7df9; trace=57f0ab18-7934-402f-bbfe-508f61828577,id=750297d6-7e4b-4f5f-b066-ce18481e7df9; trace=57f0ab18-7934-402f-bbfe-508f61828577,id=82f4f9ec-f106-4c9e-bba8-cd568d95639b; trace=57f0ab18-7934-402f-bbfe-508f61828577,id=62969df5-dad7-4639-aa9c-52d220a2b5ff; trace=57f0ab18-7934-402f-bbfe-508f61828577,id=bdbd728c-ba27-4f87-8864-295ecc9d6b52\n",
      "Failed to send compressed multipart ingest: langsmith.utils.LangSmithAuthError: Authentication failed for https://api.smith.langchain.com/runs/multipart. HTTPError('401 Client Error: Unauthorized for url: https://api.smith.langchain.com/runs/multipart', '{\"error\":\"Unauthorized\"}\\n')trace=57f0ab18-7934-402f-bbfe-508f61828577,id=bdbd728c-ba27-4f87-8864-295ecc9d6b52; trace=57f0ab18-7934-402f-bbfe-508f61828577,id=62969df5-dad7-4639-aa9c-52d220a2b5ff; trace=57f0ab18-7934-402f-bbfe-508f61828577,id=57f0ab18-7934-402f-bbfe-508f61828577\n",
      "Failed to send compressed multipart ingest: langsmith.utils.LangSmithAuthError: Authentication failed for https://api.smith.langchain.com/runs/multipart. HTTPError('401 Client Error: Unauthorized for url: https://api.smith.langchain.com/runs/multipart', '{\"error\":\"Unauthorized\"}\\n')trace=80fdad48-67fd-49cd-be4a-816eb9622dc3,id=80fdad48-67fd-49cd-be4a-816eb9622dc3; trace=80fdad48-67fd-49cd-be4a-816eb9622dc3,id=caa518b4-43f2-47ad-aea2-2597e77c41a4; trace=80fdad48-67fd-49cd-be4a-816eb9622dc3,id=4be1b51b-ac3d-4f88-96ec-5970a3cb6a57\n",
      "Failed to send compressed multipart ingest: langsmith.utils.LangSmithAuthError: Authentication failed for https://api.smith.langchain.com/runs/multipart. HTTPError('401 Client Error: Unauthorized for url: https://api.smith.langchain.com/runs/multipart', '{\"error\":\"Unauthorized\"}\\n')trace=80fdad48-67fd-49cd-be4a-816eb9622dc3,id=4be1b51b-ac3d-4f88-96ec-5970a3cb6a57; trace=80fdad48-67fd-49cd-be4a-816eb9622dc3,id=10240fb3-ff74-479d-a262-f98b62a783b1; trace=80fdad48-67fd-49cd-be4a-816eb9622dc3,id=10240fb3-ff74-479d-a262-f98b62a783b1; trace=80fdad48-67fd-49cd-be4a-816eb9622dc3,id=caa518b4-43f2-47ad-aea2-2597e77c41a4; trace=80fdad48-67fd-49cd-be4a-816eb9622dc3,id=1838e81f-d9ff-45de-aec8-3155312787fc; trace=80fdad48-67fd-49cd-be4a-816eb9622dc3,id=58a8753a-9519-4c6a-a61a-f6621acebc83; trace=80fdad48-67fd-49cd-be4a-816eb9622dc3,id=58a8753a-9519-4c6a-a61a-f6621acebc83; trace=80fdad48-67fd-49cd-be4a-816eb9622dc3,id=1838e81f-d9ff-45de-aec8-3155312787fc; trace=80fdad48-67fd-49cd-be4a-816eb9622dc3,id=6d977a71-b709-4248-8610-0509b41d9f3f; trace=80fdad48-67fd-49cd-be4a-816eb9622dc3,id=954add69-e402-4760-b641-30c41084bd3c\n",
      "Failed to send compressed multipart ingest: langsmith.utils.LangSmithAuthError: Authentication failed for https://api.smith.langchain.com/runs/multipart. HTTPError('401 Client Error: Unauthorized for url: https://api.smith.langchain.com/runs/multipart', '{\"error\":\"Unauthorized\"}\\n')trace=80fdad48-67fd-49cd-be4a-816eb9622dc3,id=954add69-e402-4760-b641-30c41084bd3c; trace=80fdad48-67fd-49cd-be4a-816eb9622dc3,id=c9325789-e5f3-48a2-94ee-b14267ab4945; trace=80fdad48-67fd-49cd-be4a-816eb9622dc3,id=c9325789-e5f3-48a2-94ee-b14267ab4945; trace=80fdad48-67fd-49cd-be4a-816eb9622dc3,id=6d977a71-b709-4248-8610-0509b41d9f3f; trace=80fdad48-67fd-49cd-be4a-816eb9622dc3,id=11577425-ab82-441a-8a51-05b3afe310d0; trace=80fdad48-67fd-49cd-be4a-816eb9622dc3,id=d89f676e-02a8-46e0-a331-68fe42991d5b; trace=80fdad48-67fd-49cd-be4a-816eb9622dc3,id=d89f676e-02a8-46e0-a331-68fe42991d5b; trace=80fdad48-67fd-49cd-be4a-816eb9622dc3,id=11577425-ab82-441a-8a51-05b3afe310d0; trace=80fdad48-67fd-49cd-be4a-816eb9622dc3,id=f9c5c5d1-8889-4a2b-b217-09c832d7ad7e; trace=80fdad48-67fd-49cd-be4a-816eb9622dc3,id=7f0e5018-2169-4cdc-91a6-758f40d9e8ac\n",
      "Failed to send compressed multipart ingest: langsmith.utils.LangSmithAuthError: Authentication failed for https://api.smith.langchain.com/runs/multipart. HTTPError('401 Client Error: Unauthorized for url: https://api.smith.langchain.com/runs/multipart', '{\"error\":\"Unauthorized\"}\\n')trace=80fdad48-67fd-49cd-be4a-816eb9622dc3,id=7f0e5018-2169-4cdc-91a6-758f40d9e8ac; trace=80fdad48-67fd-49cd-be4a-816eb9622dc3,id=b08b4a2b-a81a-45ab-8d67-8a9d06329c2e; trace=80fdad48-67fd-49cd-be4a-816eb9622dc3,id=b08b4a2b-a81a-45ab-8d67-8a9d06329c2e; trace=80fdad48-67fd-49cd-be4a-816eb9622dc3,id=f9c5c5d1-8889-4a2b-b217-09c832d7ad7e; trace=80fdad48-67fd-49cd-be4a-816eb9622dc3,id=ef1e113d-fe9a-4bd7-a58a-34bd69cff49b; trace=80fdad48-67fd-49cd-be4a-816eb9622dc3,id=ef7ab591-4f86-42ef-b864-d89efdf7b461\n",
      "Failed to send compressed multipart ingest: langsmith.utils.LangSmithAuthError: Authentication failed for https://api.smith.langchain.com/runs/multipart. HTTPError('401 Client Error: Unauthorized for url: https://api.smith.langchain.com/runs/multipart', '{\"error\":\"Unauthorized\"}\\n')trace=80fdad48-67fd-49cd-be4a-816eb9622dc3,id=ef7ab591-4f86-42ef-b864-d89efdf7b461; trace=80fdad48-67fd-49cd-be4a-816eb9622dc3,id=ef1e113d-fe9a-4bd7-a58a-34bd69cff49b; trace=80fdad48-67fd-49cd-be4a-816eb9622dc3,id=25e26b8f-2d72-4b19-be6f-ca4e95da6dd1; trace=80fdad48-67fd-49cd-be4a-816eb9622dc3,id=337b8fa3-8be2-4572-885c-d9436d8bef3c\n",
      "Failed to send compressed multipart ingest: langsmith.utils.LangSmithAuthError: Authentication failed for https://api.smith.langchain.com/runs/multipart. HTTPError('401 Client Error: Unauthorized for url: https://api.smith.langchain.com/runs/multipart', '{\"error\":\"Unauthorized\"}\\n')trace=80fdad48-67fd-49cd-be4a-816eb9622dc3,id=337b8fa3-8be2-4572-885c-d9436d8bef3c; trace=80fdad48-67fd-49cd-be4a-816eb9622dc3,id=15701fc8-8bdc-4f2d-aefd-2881fc2511a8; trace=80fdad48-67fd-49cd-be4a-816eb9622dc3,id=15701fc8-8bdc-4f2d-aefd-2881fc2511a8; trace=80fdad48-67fd-49cd-be4a-816eb9622dc3,id=25e26b8f-2d72-4b19-be6f-ca4e95da6dd1; trace=80fdad48-67fd-49cd-be4a-816eb9622dc3,id=80fdad48-67fd-49cd-be4a-816eb9622dc3\n",
      "Failed to send compressed multipart ingest: langsmith.utils.LangSmithAuthError: Authentication failed for https://api.smith.langchain.com/runs/multipart. HTTPError('401 Client Error: Unauthorized for url: https://api.smith.langchain.com/runs/multipart', '{\"error\":\"Unauthorized\"}\\n')trace=d27f6f6d-4efc-4ed8-ba9d-c7f410cb72b3,id=d27f6f6d-4efc-4ed8-ba9d-c7f410cb72b3\n",
      "Failed to send compressed multipart ingest: langsmith.utils.LangSmithAuthError: Authentication failed for https://api.smith.langchain.com/runs/multipart. HTTPError('401 Client Error: Unauthorized for url: https://api.smith.langchain.com/runs/multipart', '{\"error\":\"Unauthorized\"}\\n')trace=d27f6f6d-4efc-4ed8-ba9d-c7f410cb72b3,id=d27f6f6d-4efc-4ed8-ba9d-c7f410cb72b3\n",
      "Failed to send compressed multipart ingest: langsmith.utils.LangSmithAuthError: Authentication failed for https://api.smith.langchain.com/runs/multipart. HTTPError('401 Client Error: Unauthorized for url: https://api.smith.langchain.com/runs/multipart', '{\"error\":\"Unauthorized\"}\\n')trace=aa3350a8-a9f7-4551-a3a1-700ecb7c88e8,id=aa3350a8-a9f7-4551-a3a1-700ecb7c88e8; trace=aa3350a8-a9f7-4551-a3a1-700ecb7c88e8,id=070ccc3d-2109-4d7c-b826-023f6c8ee8ad; trace=aa3350a8-a9f7-4551-a3a1-700ecb7c88e8,id=06a0f100-8d98-4a58-8d2c-24f6e17b7a0f\n",
      "Failed to send compressed multipart ingest: langsmith.utils.LangSmithAuthError: Authentication failed for https://api.smith.langchain.com/runs/multipart. HTTPError('401 Client Error: Unauthorized for url: https://api.smith.langchain.com/runs/multipart', '{\"error\":\"Unauthorized\"}\\n')trace=aa3350a8-a9f7-4551-a3a1-700ecb7c88e8,id=06a0f100-8d98-4a58-8d2c-24f6e17b7a0f; trace=aa3350a8-a9f7-4551-a3a1-700ecb7c88e8,id=942989a8-99f0-45cc-9584-3dac3305980b; trace=aa3350a8-a9f7-4551-a3a1-700ecb7c88e8,id=942989a8-99f0-45cc-9584-3dac3305980b; trace=aa3350a8-a9f7-4551-a3a1-700ecb7c88e8,id=070ccc3d-2109-4d7c-b826-023f6c8ee8ad; trace=aa3350a8-a9f7-4551-a3a1-700ecb7c88e8,id=c8f6d2f2-ace7-41b9-865c-530a90c2a216; trace=aa3350a8-a9f7-4551-a3a1-700ecb7c88e8,id=144c2ea7-f77c-4d71-b852-f180dd669a76\n",
      "Failed to send compressed multipart ingest: langsmith.utils.LangSmithAuthError: Authentication failed for https://api.smith.langchain.com/runs/multipart. HTTPError('401 Client Error: Unauthorized for url: https://api.smith.langchain.com/runs/multipart', '{\"error\":\"Unauthorized\"}\\n')trace=aa3350a8-a9f7-4551-a3a1-700ecb7c88e8,id=144c2ea7-f77c-4d71-b852-f180dd669a76; trace=aa3350a8-a9f7-4551-a3a1-700ecb7c88e8,id=c8f6d2f2-ace7-41b9-865c-530a90c2a216; trace=aa3350a8-a9f7-4551-a3a1-700ecb7c88e8,id=e6706ced-7591-4787-8f50-1fcfb77b1f24; trace=aa3350a8-a9f7-4551-a3a1-700ecb7c88e8,id=14c5fd13-a677-4dcc-880d-4ba74bc8823b\n",
      "Failed to send compressed multipart ingest: langsmith.utils.LangSmithAuthError: Authentication failed for https://api.smith.langchain.com/runs/multipart. HTTPError('401 Client Error: Unauthorized for url: https://api.smith.langchain.com/runs/multipart', '{\"error\":\"Unauthorized\"}\\n')trace=aa3350a8-a9f7-4551-a3a1-700ecb7c88e8,id=14c5fd13-a677-4dcc-880d-4ba74bc8823b; trace=aa3350a8-a9f7-4551-a3a1-700ecb7c88e8,id=d65c92e1-e003-48c9-9237-a6b69b46860b; trace=aa3350a8-a9f7-4551-a3a1-700ecb7c88e8,id=d65c92e1-e003-48c9-9237-a6b69b46860b; trace=aa3350a8-a9f7-4551-a3a1-700ecb7c88e8,id=e6706ced-7591-4787-8f50-1fcfb77b1f24; trace=aa3350a8-a9f7-4551-a3a1-700ecb7c88e8,id=c607a48c-8b2d-4a93-abd7-d0257f35d06e; trace=aa3350a8-a9f7-4551-a3a1-700ecb7c88e8,id=b2ae5d14-a604-43cf-9bbb-49434be7cb28\n",
      "Failed to send compressed multipart ingest: langsmith.utils.LangSmithAuthError: Authentication failed for https://api.smith.langchain.com/runs/multipart. HTTPError('401 Client Error: Unauthorized for url: https://api.smith.langchain.com/runs/multipart', '{\"error\":\"Unauthorized\"}\\n')trace=aa3350a8-a9f7-4551-a3a1-700ecb7c88e8,id=b2ae5d14-a604-43cf-9bbb-49434be7cb28; trace=aa3350a8-a9f7-4551-a3a1-700ecb7c88e8,id=c607a48c-8b2d-4a93-abd7-d0257f35d06e; trace=aa3350a8-a9f7-4551-a3a1-700ecb7c88e8,id=df2abde3-992d-4c52-9789-09f818502146; trace=aa3350a8-a9f7-4551-a3a1-700ecb7c88e8,id=768c373d-efa7-430e-a6ff-2719a33d86d3\n",
      "Failed to send compressed multipart ingest: langsmith.utils.LangSmithAuthError: Authentication failed for https://api.smith.langchain.com/runs/multipart. HTTPError('401 Client Error: Unauthorized for url: https://api.smith.langchain.com/runs/multipart', '{\"error\":\"Unauthorized\"}\\n')trace=aa3350a8-a9f7-4551-a3a1-700ecb7c88e8,id=768c373d-efa7-430e-a6ff-2719a33d86d3; trace=aa3350a8-a9f7-4551-a3a1-700ecb7c88e8,id=bf7a7fa2-0c6f-46db-81c2-0e26c52e7d28; trace=aa3350a8-a9f7-4551-a3a1-700ecb7c88e8,id=bf7a7fa2-0c6f-46db-81c2-0e26c52e7d28; trace=aa3350a8-a9f7-4551-a3a1-700ecb7c88e8,id=df2abde3-992d-4c52-9789-09f818502146; trace=aa3350a8-a9f7-4551-a3a1-700ecb7c88e8,id=aa3350a8-a9f7-4551-a3a1-700ecb7c88e8\n"
     ]
    }
   ],
   "source": [
    "from langchain_groq import ChatGroq\n",
    "llm = ChatGroq(\n",
    "    model_name=\"deepseek-r1-distill-llama-70b\",\n",
    "    temperature=0\n",
    ")\n",
    "response=llm.invoke(\"what is length of wall of china?\")"
   ]
  },
  {
   "cell_type": "code",
   "execution_count": 51,
   "id": "74c644e5",
   "metadata": {},
   "outputs": [
    {
     "data": {
      "text/plain": [
       "AIMessage(content=\"<think>\\nOkay, so I need to figure out the length of the Great Wall of China. I remember hearing that it's really long, but I'm not exactly sure how long. I think it's somewhere in the thousands of miles, but I'm not certain. Let me try to break this down.\\n\\nFirst, I know the Great Wall is a series of fortifications built across several Chinese dynasties. It wasn't built all at once, so maybe that's why the length can vary. I've heard different numbers before, like 13,000 miles or 21,000 kilometers. But I'm not sure which one is accurate.\\n\\nI should consider the sources of this information. Maybe some people measure it differently. For example, if you include all the branches and sections, it might add up to a longer distance. But if you just take the main wall, it might be shorter. I think the Chinese government did a survey a while back, so that might be a reliable source.\\n\\nWait, I think they used advanced technology like GPS and satellites to measure it more accurately. That would make sense because older measurements might have been estimates. So, if the official measurement is around 13,171 miles, that's probably the most accurate number now.\\n\\nBut I also remember hearing that some sources say it's longer, like 21,000 kilometers. That's about 13,000 miles, so maybe that's just a conversion from kilometers to miles. So, 21,000 kilometers is roughly 13,000 miles. That makes sense because 1 kilometer is about 0.62 miles, so multiplying 21,000 by 0.62 gives around 13,000 miles.\\n\\nI should also think about why there's confusion. Maybe some people include all the watchtowers, beacon towers, and other structures, which could add to the total length. Or perhaps they count each segment separately, even if they're not all connected in a straight line.\\n\\nAnother thing is that the wall was built in different sections over time, so it's not a single continuous structure. It has parts that are more touristy, like the sections near Beijing, and other parts that are more remote and maybe not as well-maintained. This could affect how people measure it.\\n\\nI also wonder how they actually measured it. Using satellites would give a more precise measurement because they can track the wall's path more accurately than manual surveys. So, the 13,171-mile figure is likely the most precise one we have now.\\n\\nIn summary, the Great Wall of China is approximately 13,171 miles long, according to the most recent and accurate measurements. This number accounts for all the sections, including the branches and spurs, making it a bit longer than some earlier estimates.\\n</think>\\n\\nThe Great Wall of China is approximately 13,171 miles (21,196 kilometers) long, as determined by a recent survey using advanced technology like GPS and satellites. This measurement includes all sections, branches, and spurs, providing a more accurate and comprehensive figure than earlier estimates.\", additional_kwargs={}, response_metadata={'token_usage': {'completion_tokens': 624, 'prompt_tokens': 11, 'total_tokens': 635, 'completion_time': 2.707759749, 'prompt_time': 0.000276745, 'queue_time': 0.009837942, 'total_time': 2.708036494}, 'model_name': 'deepseek-r1-distill-llama-70b', 'system_fingerprint': 'fp_1bbe7845ec', 'finish_reason': 'stop', 'logprobs': None}, id='run--e8b84ea0-383e-4f5b-970c-825e0b3377dd-0', usage_metadata={'input_tokens': 11, 'output_tokens': 624, 'total_tokens': 635})"
      ]
     },
     "execution_count": 51,
     "metadata": {},
     "output_type": "execute_result"
    }
   ],
   "source": [
    "response"
   ]
  },
  {
   "cell_type": "code",
   "execution_count": 52,
   "id": "ccf93991",
   "metadata": {},
   "outputs": [
    {
     "data": {
      "text/plain": [
       "\"<think>\\nOkay, so I need to figure out the length of the Great Wall of China. I remember hearing that it's really long, but I'm not exactly sure how long. I think it's somewhere in the thousands of miles, but I'm not certain. Let me try to break this down.\\n\\nFirst, I know the Great Wall is a series of fortifications built across several Chinese dynasties. It wasn't built all at once, so maybe that's why the length can vary. I've heard different numbers before, like 13,000 miles or 21,000 kilometers. But I'm not sure which one is accurate.\\n\\nI should consider the sources of this information. Maybe some people measure it differently. For example, if you include all the branches and sections, it might add up to a longer distance. But if you just take the main wall, it might be shorter. I think the Chinese government did a survey a while back, so that might be a reliable source.\\n\\nWait, I think they used advanced technology like GPS and satellites to measure it more accurately. That would make sense because older measurements might have been estimates. So, if the official measurement is around 13,171 miles, that's probably the most accurate number now.\\n\\nBut I also remember hearing that some sources say it's longer, like 21,000 kilometers. That's about 13,000 miles, so maybe that's just a conversion from kilometers to miles. So, 21,000 kilometers is roughly 13,000 miles. That makes sense because 1 kilometer is about 0.62 miles, so multiplying 21,000 by 0.62 gives around 13,000 miles.\\n\\nI should also think about why there's confusion. Maybe some people include all the watchtowers, beacon towers, and other structures, which could add to the total length. Or perhaps they count each segment separately, even if they're not all connected in a straight line.\\n\\nAnother thing is that the wall was built in different sections over time, so it's not a single continuous structure. It has parts that are more touristy, like the sections near Beijing, and other parts that are more remote and maybe not as well-maintained. This could affect how people measure it.\\n\\nI also wonder how they actually measured it. Using satellites would give a more precise measurement because they can track the wall's path more accurately than manual surveys. So, the 13,171-mile figure is likely the most precise one we have now.\\n\\nIn summary, the Great Wall of China is approximately 13,171 miles long, according to the most recent and accurate measurements. This number accounts for all the sections, including the branches and spurs, making it a bit longer than some earlier estimates.\\n</think>\\n\\nThe Great Wall of China is approximately 13,171 miles (21,196 kilometers) long, as determined by a recent survey using advanced technology like GPS and satellites. This measurement includes all sections, branches, and spurs, providing a more accurate and comprehensive figure than earlier estimates.\""
      ]
     },
     "execution_count": 52,
     "metadata": {},
     "output_type": "execute_result"
    }
   ],
   "source": [
    "response.content"
   ]
  },
  {
   "cell_type": "markdown",
   "id": "1a8ba3c1",
   "metadata": {},
   "source": [
    "## This is my custom tools"
   ]
  },
  {
   "cell_type": "code",
   "execution_count": 12,
   "id": "3f711f96",
   "metadata": {},
   "outputs": [],
   "source": [
    "from langchain.tools import tool\n",
    "\n",
    "@tool\n",
    "def multiply(a: int, b: int) -> int:\n",
    "    \"\"\"\n",
    "    Multiply two integers.\n",
    "\n",
    "    Args:\n",
    "        a (int): The first integer.\n",
    "        b (int): The second integer.\n",
    "\n",
    "    Returns:\n",
    "        int: The product of a and b.\n",
    "    \"\"\"\n",
    "    return a * b\n",
    "\n",
    "@tool\n",
    "def add(a: int, b: int) -> int:\n",
    "    \"\"\"\n",
    "    Add two integers.\n",
    "\n",
    "    Args:\n",
    "        a (int): The first integer.\n",
    "        b (int): The second integer.\n",
    "\n",
    "    Returns:\n",
    "        int: The sum of a and b.\n",
    "    \"\"\"\n",
    "    return a + b\n",
    "\n",
    "@tool\n",
    "def divide(a: int, b: int) -> float:\n",
    "    \"\"\"\n",
    "    Divide two integers.\n",
    "\n",
    "    Args:\n",
    "        a (int): The numerator.\n",
    "        b (int): The denominator (must not be 0).\n",
    "\n",
    "    Returns:\n",
    "        float: The result of division.\n",
    "    \"\"\"\n",
    "    if b == 0:\n",
    "        raise ValueError(\"Denominator cannot be zero.\")\n",
    "    return a / b"
   ]
  },
  {
   "cell_type": "markdown",
   "id": "36fb6eeb",
   "metadata": {},
   "source": [
    "## Importing the inbuilt tool"
   ]
  },
  {
   "cell_type": "code",
   "execution_count": 13,
   "id": "09a85571",
   "metadata": {},
   "outputs": [],
   "source": [
    "from langchain_community.tools import DuckDuckGoSearchRun\n",
    "search=DuckDuckGoSearchRun()"
   ]
  },
  {
   "cell_type": "code",
   "execution_count": 55,
   "id": "70136b5d",
   "metadata": {},
   "outputs": [
    {
     "data": {
      "text/plain": [
       "\"Forbes iOS 26 Release Date: Exactly When The New iPhone Software Will Launch By David Phelan. This gives us three possible pairs of dates: Tuesday, Sept. 2 or Wednesday, Sept. 3, Tuesday, Sept. 9 ... The iPhone 17 lineup brings significant technological improvements across design, performance, and functionality. Apple's latest innovations focus on enhanced displays, powerful processing capabilities, and advanced camera systems.. Innovative Design and Display. The iPhone 17 Pro Max features a larger 6.86-inch display, marking a notable size increase. The beta release lets a developer or company test its software program or system to emulate real-world use before a general release. Also: Your CarPlay is getting a major overhaul on iOS 26: 3 new ... Planned for September 2025, the iPhone 17 models could feature larger display sizes, ProMotion across the lineup, Wi-Fi 7, and more. We're still in the middle of the iPhone 16 release cycle, but ... CUPERTINO, CALIFORNIA Apple today previewed iOS 26, a major update that brings a beautiful new design, intelligent experiences, and improvements to the apps users rely on every day. The new design provides a more expressive and delightful experience across the system while maintaining the instant familiarity of iOS.\""
      ]
     },
     "execution_count": 55,
     "metadata": {},
     "output_type": "execute_result"
    }
   ],
   "source": [
    "search.invoke(\"what is the latest update on iphone17 release?\")"
   ]
  },
  {
   "cell_type": "code",
   "execution_count": 56,
   "id": "4d4636de",
   "metadata": {},
   "outputs": [],
   "source": [
    "# !pip install duckduckgo_search\n"
   ]
  },
  {
   "cell_type": "code",
   "execution_count": 57,
   "id": "62382fc9",
   "metadata": {},
   "outputs": [],
   "source": [
    "tools=[multiply, add, divide, search]"
   ]
  },
  {
   "cell_type": "code",
   "execution_count": 58,
   "id": "b9706a3a",
   "metadata": {},
   "outputs": [],
   "source": [
    "llm_with_tools=llm.bind_tools(tools)"
   ]
  },
  {
   "cell_type": "code",
   "execution_count": 59,
   "id": "35a64d0a",
   "metadata": {},
   "outputs": [],
   "source": [
    "response=llm_with_tools.invoke(\"hi\")"
   ]
  },
  {
   "cell_type": "code",
   "execution_count": 60,
   "id": "dbc956da",
   "metadata": {},
   "outputs": [
    {
     "data": {
      "text/plain": [
       "AIMessage(content='Hello! How can I assist you today?', additional_kwargs={}, response_metadata={'token_usage': {'completion_tokens': 112, 'prompt_tokens': 392, 'total_tokens': 504, 'completion_time': 0.586357522, 'prompt_time': 0.025298602, 'queue_time': 0.009786757000000004, 'total_time': 0.611656124}, 'model_name': 'deepseek-r1-distill-llama-70b', 'system_fingerprint': 'fp_1bbe7845ec', 'finish_reason': 'stop', 'logprobs': None}, id='run--040592b5-7ef2-49df-b59d-e1c71578add1-0', usage_metadata={'input_tokens': 392, 'output_tokens': 112, 'total_tokens': 504})"
      ]
     },
     "execution_count": 60,
     "metadata": {},
     "output_type": "execute_result"
    }
   ],
   "source": [
    "response"
   ]
  },
  {
   "cell_type": "code",
   "execution_count": 61,
   "id": "8339ed3f",
   "metadata": {},
   "outputs": [
    {
     "data": {
      "text/plain": [
       "'Hello! How can I assist you today?'"
      ]
     },
     "execution_count": 61,
     "metadata": {},
     "output_type": "execute_result"
    }
   ],
   "source": [
    "response.content"
   ]
  },
  {
   "cell_type": "code",
   "execution_count": 62,
   "id": "1467a9c5",
   "metadata": {},
   "outputs": [
    {
     "data": {
      "text/plain": [
       "[]"
      ]
     },
     "execution_count": 62,
     "metadata": {},
     "output_type": "execute_result"
    }
   ],
   "source": [
    "response.tool_calls"
   ]
  },
  {
   "cell_type": "code",
   "execution_count": 63,
   "id": "da1e681d",
   "metadata": {},
   "outputs": [],
   "source": [
    "response=llm_with_tools.invoke(\"what is 2+2?\")"
   ]
  },
  {
   "cell_type": "code",
   "execution_count": 64,
   "id": "762e70c4",
   "metadata": {},
   "outputs": [
    {
     "data": {
      "text/plain": [
       "AIMessage(content='', additional_kwargs={'tool_calls': [{'id': 'fck4ef5g9', 'function': {'arguments': '{\"a\":2,\"b\":2}', 'name': 'add'}, 'type': 'function'}]}, response_metadata={'token_usage': {'completion_tokens': 164, 'prompt_tokens': 398, 'total_tokens': 562, 'completion_time': 0.648604649, 'prompt_time': 0.032320207, 'queue_time': 0.009826365000000004, 'total_time': 0.680924856}, 'model_name': 'deepseek-r1-distill-llama-70b', 'system_fingerprint': 'fp_1bbe7845ec', 'finish_reason': 'tool_calls', 'logprobs': None}, id='run--86b3d569-12c1-4373-8143-98d4d67724d0-0', tool_calls=[{'name': 'add', 'args': {'a': 2, 'b': 2}, 'id': 'fck4ef5g9', 'type': 'tool_call'}], usage_metadata={'input_tokens': 398, 'output_tokens': 164, 'total_tokens': 562})"
      ]
     },
     "execution_count": 64,
     "metadata": {},
     "output_type": "execute_result"
    }
   ],
   "source": [
    "response"
   ]
  },
  {
   "cell_type": "code",
   "execution_count": 65,
   "id": "8814890e",
   "metadata": {},
   "outputs": [
    {
     "data": {
      "text/plain": [
       "''"
      ]
     },
     "execution_count": 65,
     "metadata": {},
     "output_type": "execute_result"
    }
   ],
   "source": [
    "response.content"
   ]
  },
  {
   "cell_type": "code",
   "execution_count": 66,
   "id": "a7e9f880",
   "metadata": {},
   "outputs": [
    {
     "data": {
      "text/plain": [
       "[{'name': 'add',\n",
       "  'args': {'a': 2, 'b': 2},\n",
       "  'id': 'fck4ef5g9',\n",
       "  'type': 'tool_call'}]"
      ]
     },
     "execution_count": 66,
     "metadata": {},
     "output_type": "execute_result"
    }
   ],
   "source": [
    "response.tool_calls"
   ]
  },
  {
   "cell_type": "code",
   "execution_count": 67,
   "id": "bfb7906f",
   "metadata": {},
   "outputs": [],
   "source": [
    "response=llm_with_tools.invoke(\"what is 10/2?\")"
   ]
  },
  {
   "cell_type": "code",
   "execution_count": 68,
   "id": "8aa973fd",
   "metadata": {},
   "outputs": [
    {
     "data": {
      "text/plain": [
       "''"
      ]
     },
     "execution_count": 68,
     "metadata": {},
     "output_type": "execute_result"
    }
   ],
   "source": [
    "response.content"
   ]
  },
  {
   "cell_type": "code",
   "execution_count": 69,
   "id": "5d995a37",
   "metadata": {},
   "outputs": [
    {
     "data": {
      "text/plain": [
       "[{'name': 'divide',\n",
       "  'args': {'a': 10, 'b': 2},\n",
       "  'id': 'mva5m2qc9',\n",
       "  'type': 'tool_call'}]"
      ]
     },
     "execution_count": 69,
     "metadata": {},
     "output_type": "execute_result"
    }
   ],
   "source": [
    "response.tool_calls"
   ]
  },
  {
   "cell_type": "code",
   "execution_count": 70,
   "id": "d78dc801",
   "metadata": {},
   "outputs": [],
   "source": [
    "response=llm_with_tools.invoke(\"what is a current age of the TATA Group?\")"
   ]
  },
  {
   "cell_type": "code",
   "execution_count": 71,
   "id": "a2afabf6",
   "metadata": {},
   "outputs": [
    {
     "data": {
      "text/plain": [
       "AIMessage(content='', additional_kwargs={'tool_calls': [{'id': '8mzmb0y71', 'function': {'arguments': '{\"query\":\"TATA Group founding year\"}', 'name': 'duckduckgo_search'}, 'type': 'function'}]}, response_metadata={'token_usage': {'completion_tokens': 347, 'prompt_tokens': 402, 'total_tokens': 749, 'completion_time': 1.5081484569999999, 'prompt_time': 0.026047849, 'queue_time': 0.009948024999999996, 'total_time': 1.5341963060000001}, 'model_name': 'deepseek-r1-distill-llama-70b', 'system_fingerprint': 'fp_1bbe7845ec', 'finish_reason': 'tool_calls', 'logprobs': None}, id='run--dd6b7e78-f3de-4ae0-b2dd-b54764f50dde-0', tool_calls=[{'name': 'duckduckgo_search', 'args': {'query': 'TATA Group founding year'}, 'id': '8mzmb0y71', 'type': 'tool_call'}], usage_metadata={'input_tokens': 402, 'output_tokens': 347, 'total_tokens': 749})"
      ]
     },
     "execution_count": 71,
     "metadata": {},
     "output_type": "execute_result"
    }
   ],
   "source": [
    "response"
   ]
  },
  {
   "cell_type": "code",
   "execution_count": 72,
   "id": "9625b943",
   "metadata": {},
   "outputs": [
    {
     "data": {
      "text/plain": [
       "''"
      ]
     },
     "execution_count": 72,
     "metadata": {},
     "output_type": "execute_result"
    }
   ],
   "source": [
    "response.content"
   ]
  },
  {
   "cell_type": "code",
   "execution_count": 73,
   "id": "526c8c85",
   "metadata": {},
   "outputs": [
    {
     "data": {
      "text/plain": [
       "[{'name': 'duckduckgo_search',\n",
       "  'args': {'query': 'TATA Group founding year'},\n",
       "  'id': '8mzmb0y71',\n",
       "  'type': 'tool_call'}]"
      ]
     },
     "execution_count": 73,
     "metadata": {},
     "output_type": "execute_result"
    }
   ],
   "source": [
    "response.tool_calls"
   ]
  },
  {
   "cell_type": "code",
   "execution_count": 74,
   "id": "15c2d865",
   "metadata": {},
   "outputs": [],
   "source": [
    "# class MessagesState(TypedDict):\n",
    "#     messages: Annotated[list[AnyMessage], add_messages]"
   ]
  },
  {
   "cell_type": "code",
   "execution_count": 75,
   "id": "e377308c",
   "metadata": {},
   "outputs": [],
   "source": [
    "SYSTEM_PROMPT=\"You are a helpful assistant tasked with using search and performing arithmetic on a set of inputs.\"\n",
    "\n"
   ]
  },
  {
   "cell_type": "code",
   "execution_count": 76,
   "id": "e0d8125c",
   "metadata": {},
   "outputs": [],
   "source": [
    "user_query=[\"tell me what is 2+2\"]"
   ]
  },
  {
   "cell_type": "code",
   "execution_count": 77,
   "id": "2fe81ec0",
   "metadata": {},
   "outputs": [
    {
     "data": {
      "text/plain": [
       "['You are a helpful assistant tasked with using search and performing arithmetic on a set of inputs.',\n",
       " 'tell me what is 2+2']"
      ]
     },
     "execution_count": 77,
     "metadata": {},
     "output_type": "execute_result"
    }
   ],
   "source": [
    "[SYSTEM_PROMPT]+user_query"
   ]
  },
  {
   "cell_type": "code",
   "execution_count": 78,
   "id": "a7f7fb64",
   "metadata": {},
   "outputs": [],
   "source": [
    "from langgraph.graph import StateGraph,MessagesState,START,END\n",
    "from langgraph.prebuilt import ToolNode"
   ]
  },
  {
   "cell_type": "code",
   "execution_count": 47,
   "id": "99215609",
   "metadata": {},
   "outputs": [],
   "source": [
    "def function_1(state:MessagesState):\n",
    "    \n",
    "    #Gets the current conversation messages from the state\n",
    "    user_question=state[\"messages\"]\n",
    "    print(user_question)\n",
    "\n",
    "    SYSTEM_PROMPT=\"You are a helpful assistant tasked with using search and performing arithmetic on a set of inputs.\"\n",
    "\n",
    "    \n",
    "    input_question = [SYSTEM_PROMPT]+user_question\n",
    "    \n",
    "    response = llm_with_tools.invoke(input_question)\n",
    "    \n",
    "    #Returns the new state with the LLM's response added to the message history\n",
    "    return {\n",
    "        \"messages\":[response]\n",
    "    }\n",
    "    \n",
    "    "
   ]
  },
  {
   "cell_type": "code",
   "execution_count": 22,
   "id": "4e663d69",
   "metadata": {},
   "outputs": [],
   "source": [
    "from langchain_core.messages import HumanMessage, SystemMessage\n",
    "from langgraph.graph import MessagesState,StateGraph, END, START"
   ]
  },
  {
   "cell_type": "code",
   "execution_count": 80,
   "id": "eed41e32",
   "metadata": {},
   "outputs": [],
   "source": [
    "builder=StateGraph(MessagesState)"
   ]
  },
  {
   "cell_type": "code",
   "execution_count": 81,
   "id": "23396a1e",
   "metadata": {},
   "outputs": [
    {
     "data": {
      "text/plain": [
       "<langgraph.graph.state.StateGraph at 0x10cb5e960>"
      ]
     },
     "execution_count": 81,
     "metadata": {},
     "output_type": "execute_result"
    }
   ],
   "source": [
    "builder.add_node(\"llm_decision_step\",function_1)"
   ]
  },
  {
   "cell_type": "code",
   "execution_count": 82,
   "id": "7b70b839",
   "metadata": {},
   "outputs": [
    {
     "data": {
      "text/plain": [
       "[StructuredTool(name='multiply', description='Multiply two integers.\\n\\nArgs:\\n    a (int): The first integer.\\n    b (int): The second integer.\\n\\nReturns:\\n    int: The product of a and b.', args_schema=<class 'langchain_core.utils.pydantic.multiply'>, func=<function multiply at 0x10b1dcd60>),\n",
       " StructuredTool(name='add', description='Add two integers.\\n\\nArgs:\\n    a (int): The first integer.\\n    b (int): The second integer.\\n\\nReturns:\\n    int: The sum of a and b.', args_schema=<class 'langchain_core.utils.pydantic.add'>, func=<function add at 0x10d1f1bc0>),\n",
       " StructuredTool(name='divide', description='Divide two integers.\\n\\nArgs:\\n    a (int): The numerator.\\n    b (int): The denominator (must not be 0).\\n\\nReturns:\\n    float: The result of division.', args_schema=<class 'langchain_core.utils.pydantic.divide'>, func=<function divide at 0x10d10c0e0>),\n",
       " DuckDuckGoSearchRun(api_wrapper=DuckDuckGoSearchAPIWrapper(region='wt-wt', safesearch='moderate', time='y', max_results=5, backend='auto', source='text'))]"
      ]
     },
     "execution_count": 82,
     "metadata": {},
     "output_type": "execute_result"
    }
   ],
   "source": [
    "tools"
   ]
  },
  {
   "cell_type": "code",
   "execution_count": 33,
   "id": "09ead360",
   "metadata": {},
   "outputs": [
    {
     "ename": "NameError",
     "evalue": "name 'builder' is not defined",
     "output_type": "error",
     "traceback": [
      "\u001b[31m---------------------------------------------------------------------------\u001b[39m",
      "\u001b[31mNameError\u001b[39m                                 Traceback (most recent call last)",
      "\u001b[36mCell\u001b[39m\u001b[36m \u001b[39m\u001b[32mIn[33]\u001b[39m\u001b[32m, line 2\u001b[39m\n\u001b[32m      1\u001b[39m \u001b[38;5;28;01mfrom\u001b[39;00m\u001b[38;5;250m \u001b[39m\u001b[34;01mlanggraph\u001b[39;00m\u001b[34;01m.\u001b[39;00m\u001b[34;01mprebuilt\u001b[39;00m\u001b[38;5;250m \u001b[39m\u001b[38;5;28;01mimport\u001b[39;00m ToolNode\n\u001b[32m----> \u001b[39m\u001b[32m2\u001b[39m \u001b[43mbuilder\u001b[49m.add_node(\u001b[33m\"\u001b[39m\u001b[33mtools\u001b[39m\u001b[33m\"\u001b[39m,ToolNode(tools))\n",
      "\u001b[31mNameError\u001b[39m: name 'builder' is not defined"
     ]
    }
   ],
   "source": [
    "from langgraph.prebuilt import ToolNode\n",
    "builder.add_node(\"tools\",ToolNode(tools))"
   ]
  },
  {
   "cell_type": "code",
   "execution_count": 84,
   "id": "43d2cbe6",
   "metadata": {},
   "outputs": [
    {
     "data": {
      "text/plain": [
       "<langgraph.graph.state.StateGraph at 0x10cb5e960>"
      ]
     },
     "execution_count": 84,
     "metadata": {},
     "output_type": "execute_result"
    }
   ],
   "source": [
    "builder.add_edge(START,\"llm_decision_step\")"
   ]
  },
  {
   "cell_type": "code",
   "execution_count": 32,
   "id": "596349b9",
   "metadata": {},
   "outputs": [
    {
     "ename": "NameError",
     "evalue": "name 'builder' is not defined",
     "output_type": "error",
     "traceback": [
      "\u001b[31m---------------------------------------------------------------------------\u001b[39m",
      "\u001b[31mNameError\u001b[39m                                 Traceback (most recent call last)",
      "\u001b[36mCell\u001b[39m\u001b[36m \u001b[39m\u001b[32mIn[32]\u001b[39m\u001b[32m, line 2\u001b[39m\n\u001b[32m      1\u001b[39m \u001b[38;5;28;01mfrom\u001b[39;00m\u001b[38;5;250m \u001b[39m\u001b[34;01mlanggraph\u001b[39;00m\u001b[34;01m.\u001b[39;00m\u001b[34;01mprebuilt\u001b[39;00m\u001b[38;5;250m \u001b[39m\u001b[38;5;28;01mimport\u001b[39;00m tools_condition\n\u001b[32m----> \u001b[39m\u001b[32m2\u001b[39m \u001b[43mbuilder\u001b[49m.add_conditional_edges(\n\u001b[32m      3\u001b[39m     \u001b[33m\"\u001b[39m\u001b[33mllm_decision_step\u001b[39m\u001b[33m\"\u001b[39m,\n\u001b[32m      4\u001b[39m     tools_condition,\n\u001b[32m      5\u001b[39m )\n",
      "\u001b[31mNameError\u001b[39m: name 'builder' is not defined"
     ]
    }
   ],
   "source": [
    "from langgraph.prebuilt import tools_condition\n",
    "builder.add_conditional_edges(\n",
    "    \"llm_decision_step\",\n",
    "    tools_condition,\n",
    ")\n"
   ]
  },
  {
   "cell_type": "markdown",
   "id": "0e03f781",
   "metadata": {},
   "source": [
    "tools_condition: \n",
    "\"\"\"Used in the conditional_edge to route to the ToolNode if the last message has tool calls. Otherwise, route to the end.\"\"\"\n",
    "\n",
    "class ToolNode(RunnableCallable):\n",
    "    \"\"\"A node that runs the tools called in the last AIMessage.\"\"\""
   ]
  },
  {
   "cell_type": "code",
   "execution_count": 86,
   "id": "ec9c48d5",
   "metadata": {},
   "outputs": [
    {
     "data": {
      "text/plain": [
       "<langgraph.graph.state.StateGraph at 0x10cb5e960>"
      ]
     },
     "execution_count": 86,
     "metadata": {},
     "output_type": "execute_result"
    }
   ],
   "source": [
    "builder.add_edge(\"tools\",\"llm_decision_step\")"
   ]
  },
  {
   "cell_type": "code",
   "execution_count": 87,
   "id": "2782ff4e",
   "metadata": {},
   "outputs": [],
   "source": [
    "react_graph=builder.compile()"
   ]
  },
  {
   "cell_type": "code",
   "execution_count": 37,
   "id": "eb4b5b74",
   "metadata": {},
   "outputs": [
    {
     "ename": "NameError",
     "evalue": "name 'react_graph' is not defined",
     "output_type": "error",
     "traceback": [
      "\u001b[31m---------------------------------------------------------------------------\u001b[39m",
      "\u001b[31mNameError\u001b[39m                                 Traceback (most recent call last)",
      "\u001b[36mCell\u001b[39m\u001b[36m \u001b[39m\u001b[32mIn[37]\u001b[39m\u001b[32m, line 2\u001b[39m\n\u001b[32m      1\u001b[39m \u001b[38;5;28;01mfrom\u001b[39;00m\u001b[38;5;250m \u001b[39m\u001b[34;01mIPython\u001b[39;00m\u001b[34;01m.\u001b[39;00m\u001b[34;01mdisplay\u001b[39;00m\u001b[38;5;250m \u001b[39m\u001b[38;5;28;01mimport\u001b[39;00m Image, display\n\u001b[32m----> \u001b[39m\u001b[32m2\u001b[39m display(Image(\u001b[43mreact_graph\u001b[49m.get_graph().draw_mermaid_png()))\n",
      "\u001b[31mNameError\u001b[39m: name 'react_graph' is not defined"
     ]
    }
   ],
   "source": [
    "from IPython.display import Image, display\n",
    "display(Image(react_graph.get_graph().draw_mermaid_png()))"
   ]
  },
  {
   "cell_type": "code",
   "execution_count": 89,
   "id": "0dba8bc7",
   "metadata": {},
   "outputs": [],
   "source": [
    "message=[HumanMessage(content=\"What is 2 times of narendramodi's age?\")]"
   ]
  },
  {
   "cell_type": "code",
   "execution_count": 90,
   "id": "d3269295",
   "metadata": {},
   "outputs": [
    {
     "name": "stdout",
     "output_type": "stream",
     "text": [
      "[HumanMessage(content=\"What is 2 times of narendramodi's age?\", additional_kwargs={}, response_metadata={}, id='2a2c9767-7bf0-4c3a-812f-824697257116')]\n",
      "[HumanMessage(content=\"What is 2 times of narendramodi's age?\", additional_kwargs={}, response_metadata={}, id='2a2c9767-7bf0-4c3a-812f-824697257116'), AIMessage(content='', additional_kwargs={'tool_calls': [{'id': 'dvekz4xmw', 'function': {'arguments': '{\"query\":\"Narendra Modi age\"}', 'name': 'duckduckgo_search'}, 'type': 'function'}]}, response_metadata={'token_usage': {'completion_tokens': 303, 'prompt_tokens': 423, 'total_tokens': 726, 'completion_time': 1.156675681, 'prompt_time': 0.034725947, 'queue_time': 0.009903536999999997, 'total_time': 1.191401628}, 'model_name': 'deepseek-r1-distill-llama-70b', 'system_fingerprint': 'fp_1bbe7845ec', 'finish_reason': 'tool_calls', 'logprobs': None}, id='run--d5606fbe-a443-48c0-995f-5b83be038971-0', tool_calls=[{'name': 'duckduckgo_search', 'args': {'query': 'Narendra Modi age'}, 'id': 'dvekz4xmw', 'type': 'tool_call'}], usage_metadata={'input_tokens': 423, 'output_tokens': 303, 'total_tokens': 726}), ToolMessage(content='Narendra Modi is the 14th prime minister of India. His Hindu nationalist policies and some of his economic reforms have proved controversial to many within and outside India. Learn about the life and achievements of Narendra Modi, the 14th Prime Minister of India, who was born on September 17, 1950, in Gujarat. Find out his full name, mother, father, wife, education, party, and net worth here. Narendra Modi biography Here are 20 key details about Narendra Modi: Full Name: Narendra Damodardas Modi. Date of Birth: September 17, 1950. Birthplace: Vadnagar, Gujarat, India. Current Position: Prime Minister of India, serving since May 26, 2014. Political Party: Bharatiya Janata Party (BJP). Previous Role: Chief Minister of Gujarat from October 2001 to May 2014. Major Achievements: Known ... Narendra Modi Biography, Age, Education, Political Career Know all about Prime Minister Narendra Modi Biography, Age, Full Name, Education, Family, Political Career and Achievements in this article. Narendra Modi Height, Weight, Age, Wife, Biography, Family & Affairs Narendra Modi (born 17 September 1950) is an Indian Politician, 14th Prime Minister of India, and BJP leader from Vadnagar, Gujarat, India. His political party is Bhartiya Janta Partry (BJP). He is also a member of Rashtriya Swayamsevak Sangh.', name='duckduckgo_search', id='e5ecb868-f877-4f43-aacd-4a04d55f58a5', tool_call_id='dvekz4xmw')]\n",
      "[HumanMessage(content=\"What is 2 times of narendramodi's age?\", additional_kwargs={}, response_metadata={}, id='2a2c9767-7bf0-4c3a-812f-824697257116'), AIMessage(content='', additional_kwargs={'tool_calls': [{'id': 'dvekz4xmw', 'function': {'arguments': '{\"query\":\"Narendra Modi age\"}', 'name': 'duckduckgo_search'}, 'type': 'function'}]}, response_metadata={'token_usage': {'completion_tokens': 303, 'prompt_tokens': 423, 'total_tokens': 726, 'completion_time': 1.156675681, 'prompt_time': 0.034725947, 'queue_time': 0.009903536999999997, 'total_time': 1.191401628}, 'model_name': 'deepseek-r1-distill-llama-70b', 'system_fingerprint': 'fp_1bbe7845ec', 'finish_reason': 'tool_calls', 'logprobs': None}, id='run--d5606fbe-a443-48c0-995f-5b83be038971-0', tool_calls=[{'name': 'duckduckgo_search', 'args': {'query': 'Narendra Modi age'}, 'id': 'dvekz4xmw', 'type': 'tool_call'}], usage_metadata={'input_tokens': 423, 'output_tokens': 303, 'total_tokens': 726}), ToolMessage(content='Narendra Modi is the 14th prime minister of India. His Hindu nationalist policies and some of his economic reforms have proved controversial to many within and outside India. Learn about the life and achievements of Narendra Modi, the 14th Prime Minister of India, who was born on September 17, 1950, in Gujarat. Find out his full name, mother, father, wife, education, party, and net worth here. Narendra Modi biography Here are 20 key details about Narendra Modi: Full Name: Narendra Damodardas Modi. Date of Birth: September 17, 1950. Birthplace: Vadnagar, Gujarat, India. Current Position: Prime Minister of India, serving since May 26, 2014. Political Party: Bharatiya Janata Party (BJP). Previous Role: Chief Minister of Gujarat from October 2001 to May 2014. Major Achievements: Known ... Narendra Modi Biography, Age, Education, Political Career Know all about Prime Minister Narendra Modi Biography, Age, Full Name, Education, Family, Political Career and Achievements in this article. Narendra Modi Height, Weight, Age, Wife, Biography, Family & Affairs Narendra Modi (born 17 September 1950) is an Indian Politician, 14th Prime Minister of India, and BJP leader from Vadnagar, Gujarat, India. His political party is Bhartiya Janta Partry (BJP). He is also a member of Rashtriya Swayamsevak Sangh.', name='duckduckgo_search', id='e5ecb868-f877-4f43-aacd-4a04d55f58a5', tool_call_id='dvekz4xmw'), AIMessage(content='', additional_kwargs={'tool_calls': [{'id': 'en2knw71m', 'function': {'arguments': '{\"a\":73,\"b\":2}', 'name': 'multiply'}, 'type': 'function'}]}, response_metadata={'token_usage': {'completion_tokens': 370, 'prompt_tokens': 786, 'total_tokens': 1156, 'completion_time': 1.361231259, 'prompt_time': 0.058321931, 'queue_time': 0.010186664000000005, 'total_time': 1.41955319}, 'model_name': 'deepseek-r1-distill-llama-70b', 'system_fingerprint': 'fp_1bbe7845ec', 'finish_reason': 'tool_calls', 'logprobs': None}, id='run--28278196-9a55-41ca-ae38-a3eade38b914-0', tool_calls=[{'name': 'multiply', 'args': {'a': 73, 'b': 2}, 'id': 'en2knw71m', 'type': 'tool_call'}], usage_metadata={'input_tokens': 786, 'output_tokens': 370, 'total_tokens': 1156}), ToolMessage(content='146', name='multiply', id='0ea92f3a-0e1b-4fa2-8b10-9f96b9f7f0d8', tool_call_id='en2knw71m')]\n"
     ]
    },
    {
     "data": {
      "text/plain": [
       "{'messages': [HumanMessage(content=\"What is 2 times of narendramodi's age?\", additional_kwargs={}, response_metadata={}, id='2a2c9767-7bf0-4c3a-812f-824697257116'),\n",
       "  AIMessage(content='', additional_kwargs={'tool_calls': [{'id': 'dvekz4xmw', 'function': {'arguments': '{\"query\":\"Narendra Modi age\"}', 'name': 'duckduckgo_search'}, 'type': 'function'}]}, response_metadata={'token_usage': {'completion_tokens': 303, 'prompt_tokens': 423, 'total_tokens': 726, 'completion_time': 1.156675681, 'prompt_time': 0.034725947, 'queue_time': 0.009903536999999997, 'total_time': 1.191401628}, 'model_name': 'deepseek-r1-distill-llama-70b', 'system_fingerprint': 'fp_1bbe7845ec', 'finish_reason': 'tool_calls', 'logprobs': None}, id='run--d5606fbe-a443-48c0-995f-5b83be038971-0', tool_calls=[{'name': 'duckduckgo_search', 'args': {'query': 'Narendra Modi age'}, 'id': 'dvekz4xmw', 'type': 'tool_call'}], usage_metadata={'input_tokens': 423, 'output_tokens': 303, 'total_tokens': 726}),\n",
       "  ToolMessage(content='Narendra Modi is the 14th prime minister of India. His Hindu nationalist policies and some of his economic reforms have proved controversial to many within and outside India. Learn about the life and achievements of Narendra Modi, the 14th Prime Minister of India, who was born on September 17, 1950, in Gujarat. Find out his full name, mother, father, wife, education, party, and net worth here. Narendra Modi biography Here are 20 key details about Narendra Modi: Full Name: Narendra Damodardas Modi. Date of Birth: September 17, 1950. Birthplace: Vadnagar, Gujarat, India. Current Position: Prime Minister of India, serving since May 26, 2014. Political Party: Bharatiya Janata Party (BJP). Previous Role: Chief Minister of Gujarat from October 2001 to May 2014. Major Achievements: Known ... Narendra Modi Biography, Age, Education, Political Career Know all about Prime Minister Narendra Modi Biography, Age, Full Name, Education, Family, Political Career and Achievements in this article. Narendra Modi Height, Weight, Age, Wife, Biography, Family & Affairs Narendra Modi (born 17 September 1950) is an Indian Politician, 14th Prime Minister of India, and BJP leader from Vadnagar, Gujarat, India. His political party is Bhartiya Janta Partry (BJP). He is also a member of Rashtriya Swayamsevak Sangh.', name='duckduckgo_search', id='e5ecb868-f877-4f43-aacd-4a04d55f58a5', tool_call_id='dvekz4xmw'),\n",
       "  AIMessage(content='', additional_kwargs={'tool_calls': [{'id': 'en2knw71m', 'function': {'arguments': '{\"a\":73,\"b\":2}', 'name': 'multiply'}, 'type': 'function'}]}, response_metadata={'token_usage': {'completion_tokens': 370, 'prompt_tokens': 786, 'total_tokens': 1156, 'completion_time': 1.361231259, 'prompt_time': 0.058321931, 'queue_time': 0.010186664000000005, 'total_time': 1.41955319}, 'model_name': 'deepseek-r1-distill-llama-70b', 'system_fingerprint': 'fp_1bbe7845ec', 'finish_reason': 'tool_calls', 'logprobs': None}, id='run--28278196-9a55-41ca-ae38-a3eade38b914-0', tool_calls=[{'name': 'multiply', 'args': {'a': 73, 'b': 2}, 'id': 'en2knw71m', 'type': 'tool_call'}], usage_metadata={'input_tokens': 786, 'output_tokens': 370, 'total_tokens': 1156}),\n",
       "  ToolMessage(content='146', name='multiply', id='0ea92f3a-0e1b-4fa2-8b10-9f96b9f7f0d8', tool_call_id='en2knw71m'),\n",
       "  AIMessage(content=\"2 times Narendra Modi's age is **146**.\", additional_kwargs={}, response_metadata={'token_usage': {'completion_tokens': 183, 'prompt_tokens': 839, 'total_tokens': 1022, 'completion_time': 0.665454545, 'prompt_time': 0.062383158, 'queue_time': 0.010237881999999997, 'total_time': 0.727837703}, 'model_name': 'deepseek-r1-distill-llama-70b', 'system_fingerprint': 'fp_1bbe7845ec', 'finish_reason': 'stop', 'logprobs': None}, id='run--77fc6eb1-aa04-47d3-9c50-4f779323dcb8-0', usage_metadata={'input_tokens': 839, 'output_tokens': 183, 'total_tokens': 1022})]}"
      ]
     },
     "execution_count": 90,
     "metadata": {},
     "output_type": "execute_result"
    }
   ],
   "source": [
    "react_graph.invoke({\"messages\":message})"
   ]
  },
  {
   "cell_type": "code",
   "execution_count": 91,
   "id": "c99ad9fb",
   "metadata": {},
   "outputs": [],
   "source": [
    "message = [HumanMessage(content=\"How much is the net worth of Elon Musk, and divide it by 2?\")]"
   ]
  },
  {
   "cell_type": "code",
   "execution_count": 92,
   "id": "eb42942f",
   "metadata": {},
   "outputs": [
    {
     "name": "stdout",
     "output_type": "stream",
     "text": [
      "[HumanMessage(content='How much is the net worth of Elon Musk, and divide it by 2?', additional_kwargs={}, response_metadata={}, id='d80bdcfe-e616-4726-9fbb-860f0c357243')]\n",
      "[HumanMessage(content='How much is the net worth of Elon Musk, and divide it by 2?', additional_kwargs={}, response_metadata={}, id='d80bdcfe-e616-4726-9fbb-860f0c357243'), AIMessage(content='', additional_kwargs={'tool_calls': [{'id': 'wva6bberh', 'function': {'arguments': '{\"query\":\"Elon Musk net worth 2023\"}', 'name': 'duckduckgo_search'}, 'type': 'function'}]}, response_metadata={'token_usage': {'completion_tokens': 538, 'prompt_tokens': 427, 'total_tokens': 965, 'completion_time': 1.981868929, 'prompt_time': 0.027382855, 'queue_time': 0.024581659000000002, 'total_time': 2.009251784}, 'model_name': 'deepseek-r1-distill-llama-70b', 'system_fingerprint': 'fp_1bbe7845ec', 'finish_reason': 'tool_calls', 'logprobs': None}, id='run--3c8b302b-99d6-4b82-b39a-cccf15935d4b-0', tool_calls=[{'name': 'duckduckgo_search', 'args': {'query': 'Elon Musk net worth 2023'}, 'id': 'wva6bberh', 'type': 'tool_call'}], usage_metadata={'input_tokens': 427, 'output_tokens': 538, 'total_tokens': 965}), ToolMessage(content=\"Elon Musk Becomes $27 Billion Poorer As Trump Quarrel Eats Into Net Worth Elon Musk's net worth fell by the equivalent of almost five times Trump's $5.5 billion net worth Thursday. In calculating net worth, Bloomberg News strives to provide the most transparent calculations available, and each individual billionaire profile contains a detailed analysis of how that person's ... Elon Musk's Current Net Worth As of October 2023, Elon Musk's net worth is approximately $230 billion, making him one of the world's wealthiest individuals. This figure is primarily reported by Forbes, reflecting Musk's substantial holdings and financial activities across various sectors. His wealth is significantly influenced by his investments in key companies, particularly Tesla. Tesla CEO Elon Musk's net worth plunged by a staggering $34 billion during his and President Donald Trump's major rift on Thursday, Bloomberg reported. Elon Musk is a South African-born Canadian-American businessman, inventor, and investor who has a net worth of $368 billion. Elon Musk is currently the richest person in the world. In November ...\", name='duckduckgo_search', id='716db61e-1592-4800-b845-f1d5b9f02cf5', tool_call_id='wva6bberh')]\n",
      "[HumanMessage(content='How much is the net worth of Elon Musk, and divide it by 2?', additional_kwargs={}, response_metadata={}, id='d80bdcfe-e616-4726-9fbb-860f0c357243'), AIMessage(content='', additional_kwargs={'tool_calls': [{'id': 'wva6bberh', 'function': {'arguments': '{\"query\":\"Elon Musk net worth 2023\"}', 'name': 'duckduckgo_search'}, 'type': 'function'}]}, response_metadata={'token_usage': {'completion_tokens': 538, 'prompt_tokens': 427, 'total_tokens': 965, 'completion_time': 1.981868929, 'prompt_time': 0.027382855, 'queue_time': 0.024581659000000002, 'total_time': 2.009251784}, 'model_name': 'deepseek-r1-distill-llama-70b', 'system_fingerprint': 'fp_1bbe7845ec', 'finish_reason': 'tool_calls', 'logprobs': None}, id='run--3c8b302b-99d6-4b82-b39a-cccf15935d4b-0', tool_calls=[{'name': 'duckduckgo_search', 'args': {'query': 'Elon Musk net worth 2023'}, 'id': 'wva6bberh', 'type': 'tool_call'}], usage_metadata={'input_tokens': 427, 'output_tokens': 538, 'total_tokens': 965}), ToolMessage(content=\"Elon Musk Becomes $27 Billion Poorer As Trump Quarrel Eats Into Net Worth Elon Musk's net worth fell by the equivalent of almost five times Trump's $5.5 billion net worth Thursday. In calculating net worth, Bloomberg News strives to provide the most transparent calculations available, and each individual billionaire profile contains a detailed analysis of how that person's ... Elon Musk's Current Net Worth As of October 2023, Elon Musk's net worth is approximately $230 billion, making him one of the world's wealthiest individuals. This figure is primarily reported by Forbes, reflecting Musk's substantial holdings and financial activities across various sectors. His wealth is significantly influenced by his investments in key companies, particularly Tesla. Tesla CEO Elon Musk's net worth plunged by a staggering $34 billion during his and President Donald Trump's major rift on Thursday, Bloomberg reported. Elon Musk is a South African-born Canadian-American businessman, inventor, and investor who has a net worth of $368 billion. Elon Musk is currently the richest person in the world. In November ...\", name='duckduckgo_search', id='716db61e-1592-4800-b845-f1d5b9f02cf5', tool_call_id='wva6bberh'), AIMessage(content='', additional_kwargs={'tool_calls': [{'id': '79k3sz15x', 'function': {'arguments': '{\"a\":230000000000,\"b\":2}', 'name': 'divide'}, 'type': 'function'}]}, response_metadata={'token_usage': {'completion_tokens': 381, 'prompt_tokens': 696, 'total_tokens': 1077, 'completion_time': 1.385454545, 'prompt_time': 0.045911648, 'queue_time': 0.017292977, 'total_time': 1.4313661930000001}, 'model_name': 'deepseek-r1-distill-llama-70b', 'system_fingerprint': 'fp_1bbe7845ec', 'finish_reason': 'tool_calls', 'logprobs': None}, id='run--2df6cfe2-335f-429a-95ef-eb1bfb266beb-0', tool_calls=[{'name': 'divide', 'args': {'a': 230000000000, 'b': 2}, 'id': '79k3sz15x', 'type': 'tool_call'}], usage_metadata={'input_tokens': 696, 'output_tokens': 381, 'total_tokens': 1077}), ToolMessage(content='115000000000.0', name='divide', id='4b16b7a4-560e-4378-8a68-226d1b9646e0', tool_call_id='79k3sz15x')]\n"
     ]
    },
    {
     "data": {
      "text/plain": [
       "{'messages': [HumanMessage(content='How much is the net worth of Elon Musk, and divide it by 2?', additional_kwargs={}, response_metadata={}, id='d80bdcfe-e616-4726-9fbb-860f0c357243'),\n",
       "  AIMessage(content='', additional_kwargs={'tool_calls': [{'id': 'wva6bberh', 'function': {'arguments': '{\"query\":\"Elon Musk net worth 2023\"}', 'name': 'duckduckgo_search'}, 'type': 'function'}]}, response_metadata={'token_usage': {'completion_tokens': 538, 'prompt_tokens': 427, 'total_tokens': 965, 'completion_time': 1.981868929, 'prompt_time': 0.027382855, 'queue_time': 0.024581659000000002, 'total_time': 2.009251784}, 'model_name': 'deepseek-r1-distill-llama-70b', 'system_fingerprint': 'fp_1bbe7845ec', 'finish_reason': 'tool_calls', 'logprobs': None}, id='run--3c8b302b-99d6-4b82-b39a-cccf15935d4b-0', tool_calls=[{'name': 'duckduckgo_search', 'args': {'query': 'Elon Musk net worth 2023'}, 'id': 'wva6bberh', 'type': 'tool_call'}], usage_metadata={'input_tokens': 427, 'output_tokens': 538, 'total_tokens': 965}),\n",
       "  ToolMessage(content=\"Elon Musk Becomes $27 Billion Poorer As Trump Quarrel Eats Into Net Worth Elon Musk's net worth fell by the equivalent of almost five times Trump's $5.5 billion net worth Thursday. In calculating net worth, Bloomberg News strives to provide the most transparent calculations available, and each individual billionaire profile contains a detailed analysis of how that person's ... Elon Musk's Current Net Worth As of October 2023, Elon Musk's net worth is approximately $230 billion, making him one of the world's wealthiest individuals. This figure is primarily reported by Forbes, reflecting Musk's substantial holdings and financial activities across various sectors. His wealth is significantly influenced by his investments in key companies, particularly Tesla. Tesla CEO Elon Musk's net worth plunged by a staggering $34 billion during his and President Donald Trump's major rift on Thursday, Bloomberg reported. Elon Musk is a South African-born Canadian-American businessman, inventor, and investor who has a net worth of $368 billion. Elon Musk is currently the richest person in the world. In November ...\", name='duckduckgo_search', id='716db61e-1592-4800-b845-f1d5b9f02cf5', tool_call_id='wva6bberh'),\n",
       "  AIMessage(content='', additional_kwargs={'tool_calls': [{'id': '79k3sz15x', 'function': {'arguments': '{\"a\":230000000000,\"b\":2}', 'name': 'divide'}, 'type': 'function'}]}, response_metadata={'token_usage': {'completion_tokens': 381, 'prompt_tokens': 696, 'total_tokens': 1077, 'completion_time': 1.385454545, 'prompt_time': 0.045911648, 'queue_time': 0.017292977, 'total_time': 1.4313661930000001}, 'model_name': 'deepseek-r1-distill-llama-70b', 'system_fingerprint': 'fp_1bbe7845ec', 'finish_reason': 'tool_calls', 'logprobs': None}, id='run--2df6cfe2-335f-429a-95ef-eb1bfb266beb-0', tool_calls=[{'name': 'divide', 'args': {'a': 230000000000, 'b': 2}, 'id': '79k3sz15x', 'type': 'tool_call'}], usage_metadata={'input_tokens': 696, 'output_tokens': 381, 'total_tokens': 1077}),\n",
       "  ToolMessage(content='115000000000.0', name='divide', id='4b16b7a4-560e-4378-8a68-226d1b9646e0', tool_call_id='79k3sz15x'),\n",
       "  AIMessage(content=\"As of October 2023, Elon Musk's net worth is approximately **$230 billion**. When we divide this amount by 2, we get:\\n\\n\\\\[\\n\\\\frac{230,000,000,000}{2} = 115,000,000,000\\n\\\\]\\n\\nSo, dividing Elon Musk's net worth by 2 gives us **$115 billion**.\", additional_kwargs={}, response_metadata={'token_usage': {'completion_tokens': 338, 'prompt_tokens': 757, 'total_tokens': 1095, 'completion_time': 1.285587309, 'prompt_time': 0.049450304, 'queue_time': 0.010301410999999996, 'total_time': 1.335037613}, 'model_name': 'deepseek-r1-distill-llama-70b', 'system_fingerprint': 'fp_1bbe7845ec', 'finish_reason': 'stop', 'logprobs': None}, id='run--de786bf8-1ec3-4823-849c-3af977829e7c-0', usage_metadata={'input_tokens': 757, 'output_tokens': 338, 'total_tokens': 1095})]}"
      ]
     },
     "execution_count": 92,
     "metadata": {},
     "output_type": "execute_result"
    }
   ],
   "source": [
    "react_graph.invoke({\"messages\":message})"
   ]
  },
  {
   "cell_type": "code",
   "execution_count": 93,
   "id": "c3358a2b",
   "metadata": {},
   "outputs": [],
   "source": [
    "message = [HumanMessage(content=\"What is the speed of light in m/s and multiply it by 10?\")]"
   ]
  },
  {
   "cell_type": "code",
   "execution_count": 95,
   "id": "f7bbd089",
   "metadata": {},
   "outputs": [
    {
     "name": "stdout",
     "output_type": "stream",
     "text": [
      "[HumanMessage(content='What is the speed of light in m/s and multiply it by 10?', additional_kwargs={}, response_metadata={}, id='94f159e9-7a47-4a2c-a13b-2f5732f81b96')]\n",
      "[HumanMessage(content='What is the speed of light in m/s and multiply it by 10?', additional_kwargs={}, response_metadata={}, id='94f159e9-7a47-4a2c-a13b-2f5732f81b96'), AIMessage(content='', additional_kwargs={'tool_calls': [{'id': 'y3hn8v19t', 'function': {'arguments': '{\"a\":299792000,\"b\":10}', 'name': 'multiply'}, 'type': 'function'}]}, response_metadata={'token_usage': {'completion_tokens': 424, 'prompt_tokens': 426, 'total_tokens': 850, 'completion_time': 1.541818182, 'prompt_time': 0.034993919, 'queue_time': 0.009910208000000004, 'total_time': 1.576812101}, 'model_name': 'deepseek-r1-distill-llama-70b', 'system_fingerprint': 'fp_1bbe7845ec', 'finish_reason': 'tool_calls', 'logprobs': None}, id='run--c355e2a3-0f5d-4a26-a61a-58c40ff743c6-0', tool_calls=[{'name': 'multiply', 'args': {'a': 299792000, 'b': 10}, 'id': 'y3hn8v19t', 'type': 'tool_call'}], usage_metadata={'input_tokens': 426, 'output_tokens': 424, 'total_tokens': 850}), ToolMessage(content='2997920000', name='multiply', id='72bfa287-11ac-4f5e-a7da-43c4ea6b6b92', tool_call_id='y3hn8v19t')]\n"
     ]
    },
    {
     "data": {
      "text/plain": [
       "{'messages': [HumanMessage(content='What is the speed of light in m/s and multiply it by 10?', additional_kwargs={}, response_metadata={}, id='94f159e9-7a47-4a2c-a13b-2f5732f81b96'),\n",
       "  AIMessage(content='', additional_kwargs={'tool_calls': [{'id': 'y3hn8v19t', 'function': {'arguments': '{\"a\":299792000,\"b\":10}', 'name': 'multiply'}, 'type': 'function'}]}, response_metadata={'token_usage': {'completion_tokens': 424, 'prompt_tokens': 426, 'total_tokens': 850, 'completion_time': 1.541818182, 'prompt_time': 0.034993919, 'queue_time': 0.009910208000000004, 'total_time': 1.576812101}, 'model_name': 'deepseek-r1-distill-llama-70b', 'system_fingerprint': 'fp_1bbe7845ec', 'finish_reason': 'tool_calls', 'logprobs': None}, id='run--c355e2a3-0f5d-4a26-a61a-58c40ff743c6-0', tool_calls=[{'name': 'multiply', 'args': {'a': 299792000, 'b': 10}, 'id': 'y3hn8v19t', 'type': 'tool_call'}], usage_metadata={'input_tokens': 426, 'output_tokens': 424, 'total_tokens': 850}),\n",
       "  ToolMessage(content='2997920000', name='multiply', id='72bfa287-11ac-4f5e-a7da-43c4ea6b6b92', tool_call_id='y3hn8v19t'),\n",
       "  AIMessage(content='The speed of light in meters per second is 299,792,000 m/s. When multiplied by 10, the result is 2,997,920,000 m/s.', additional_kwargs={}, response_metadata={'token_usage': {'completion_tokens': 472, 'prompt_tokens': 485, 'total_tokens': 957, 'completion_time': 1.716363636, 'prompt_time': 0.031821265, 'queue_time': 0.009832981999999997, 'total_time': 1.7481849010000001}, 'model_name': 'deepseek-r1-distill-llama-70b', 'system_fingerprint': 'fp_1bbe7845ec', 'finish_reason': 'stop', 'logprobs': None}, id='run--6495e484-71be-480d-9769-49130d591215-0', usage_metadata={'input_tokens': 485, 'output_tokens': 472, 'total_tokens': 957})]}"
      ]
     },
     "execution_count": 95,
     "metadata": {},
     "output_type": "execute_result"
    }
   ],
   "source": [
    "react_graph.invoke({\"messages\":message})"
   ]
  },
  {
   "cell_type": "code",
   "execution_count": 98,
   "id": "cff14984",
   "metadata": {},
   "outputs": [
    {
     "name": "stdout",
     "output_type": "stream",
     "text": [
      "[HumanMessage(content='What is the speed of light in m/s and multiply it by 10?', additional_kwargs={}, response_metadata={}, id='94f159e9-7a47-4a2c-a13b-2f5732f81b96')]\n",
      "[HumanMessage(content='What is the speed of light in m/s and multiply it by 10?', additional_kwargs={}, response_metadata={}, id='94f159e9-7a47-4a2c-a13b-2f5732f81b96'), AIMessage(content='', additional_kwargs={'tool_calls': [{'id': 'ntcm384wg', 'function': {'arguments': '{\"a\":299792000,\"b\":10}', 'name': 'multiply'}, 'type': 'function'}]}, response_metadata={'token_usage': {'completion_tokens': 454, 'prompt_tokens': 426, 'total_tokens': 880, 'completion_time': 1.650909091, 'prompt_time': 0.027266125, 'queue_time': 0.009796649000000001, 'total_time': 1.678175216}, 'model_name': 'deepseek-r1-distill-llama-70b', 'system_fingerprint': 'fp_1bbe7845ec', 'finish_reason': 'tool_calls', 'logprobs': None}, id='run--f38ce184-52b2-4986-a81a-93782982e484-0', tool_calls=[{'name': 'multiply', 'args': {'a': 299792000, 'b': 10}, 'id': 'ntcm384wg', 'type': 'tool_call'}], usage_metadata={'input_tokens': 426, 'output_tokens': 454, 'total_tokens': 880}), ToolMessage(content='2997920000', name='multiply', id='2bfe7024-8b80-4216-b85a-58e5de3f7992', tool_call_id='ntcm384wg')]\n"
     ]
    }
   ],
   "source": [
    "response=react_graph.invoke({\"messages\":message})"
   ]
  },
  {
   "cell_type": "code",
   "execution_count": 99,
   "id": "4c006b18",
   "metadata": {},
   "outputs": [
    {
     "name": "stdout",
     "output_type": "stream",
     "text": [
      "{'messages': [HumanMessage(content='What is the speed of light in m/s and multiply it by 10?', additional_kwargs={}, response_metadata={}, id='94f159e9-7a47-4a2c-a13b-2f5732f81b96'), AIMessage(content='', additional_kwargs={'tool_calls': [{'id': 'ntcm384wg', 'function': {'arguments': '{\"a\":299792000,\"b\":10}', 'name': 'multiply'}, 'type': 'function'}]}, response_metadata={'token_usage': {'completion_tokens': 454, 'prompt_tokens': 426, 'total_tokens': 880, 'completion_time': 1.650909091, 'prompt_time': 0.027266125, 'queue_time': 0.009796649000000001, 'total_time': 1.678175216}, 'model_name': 'deepseek-r1-distill-llama-70b', 'system_fingerprint': 'fp_1bbe7845ec', 'finish_reason': 'tool_calls', 'logprobs': None}, id='run--f38ce184-52b2-4986-a81a-93782982e484-0', tool_calls=[{'name': 'multiply', 'args': {'a': 299792000, 'b': 10}, 'id': 'ntcm384wg', 'type': 'tool_call'}], usage_metadata={'input_tokens': 426, 'output_tokens': 454, 'total_tokens': 880}), ToolMessage(content='2997920000', name='multiply', id='2bfe7024-8b80-4216-b85a-58e5de3f7992', tool_call_id='ntcm384wg'), AIMessage(content='The speed of light in meters per second is approximately 299,792,000 m/s. When multiplied by 10, the result is 2,997,920,000 m/s.', additional_kwargs={}, response_metadata={'token_usage': {'completion_tokens': 728, 'prompt_tokens': 482, 'total_tokens': 1210, 'completion_time': 2.647272727, 'prompt_time': 0.038185271, 'queue_time': 0.010082279999999999, 'total_time': 2.685457998}, 'model_name': 'deepseek-r1-distill-llama-70b', 'system_fingerprint': 'fp_1bbe7845ec', 'finish_reason': 'stop', 'logprobs': None}, id='run--e15b16c7-bdaf-4c27-9dee-2cef36156a4b-0', usage_metadata={'input_tokens': 482, 'output_tokens': 728, 'total_tokens': 1210})]}\n"
     ]
    }
   ],
   "source": [
    "print(response)"
   ]
  },
  {
   "cell_type": "code",
   "execution_count": 151,
   "id": "4b6f8cb1",
   "metadata": {},
   "outputs": [
    {
     "data": {
      "text/plain": [
       "'The speed of light in meters per second is approximately 299,792,000 m/s. When multiplied by 10, the result is 2,997,920,000 m/s.'"
      ]
     },
     "execution_count": 96,
     "metadata": {},
     "output_type": "execute_result"
    }
   ],
   "source": [
    "response[\"messages\"][-1].content"
   ]
  },
  {
   "cell_type": "code",
   "execution_count": 100,
   "id": "ecaa64fa",
   "metadata": {},
   "outputs": [
    {
     "name": "stdout",
     "output_type": "stream",
     "text": [
      "================================\u001b[1m Human Message \u001b[0m=================================\n",
      "\n",
      "What is the speed of light in m/s and multiply it by 10?\n",
      "==================================\u001b[1m Ai Message \u001b[0m==================================\n",
      "Tool Calls:\n",
      "  multiply (ntcm384wg)\n",
      " Call ID: ntcm384wg\n",
      "  Args:\n",
      "    a: 299792000\n",
      "    b: 10\n",
      "=================================\u001b[1m Tool Message \u001b[0m=================================\n",
      "Name: multiply\n",
      "\n",
      "2997920000\n",
      "==================================\u001b[1m Ai Message \u001b[0m==================================\n",
      "\n",
      "The speed of light in meters per second is approximately 299,792,000 m/s. When multiplied by 10, the result is 2,997,920,000 m/s.\n"
     ]
    }
   ],
   "source": [
    "for m in response[\"messages\"]:\n",
    "    m.pretty_print()"
   ]
  },
  {
   "cell_type": "code",
   "execution_count": 3,
   "id": "0dec1352",
   "metadata": {},
   "outputs": [],
   "source": [
    "import yfinance as yf"
   ]
  },
  {
   "cell_type": "code",
   "execution_count": 47,
   "id": "f07545f5",
   "metadata": {},
   "outputs": [],
   "source": [
    "@tool\n",
    "def get_stock_price(ticker:str)->str:\n",
    "    \"\"\"\n",
    "    Fetches the previous closing price of a given stock ticker from Yahoo Finance.\n",
    "\n",
    "    Args:\n",
    "        ticker (str): The stock ticker symbol (e.g., 'AAPL', 'TSLA', 'NIFTY.BO').\n",
    "\n",
    "    Returns:\n",
    "        str: A message with the stock's previous closing price.\n",
    "    \"\"\"\n",
    "    try:\n",
    "        stock = yf.Ticker(ticker)\n",
    "        price = stock.info.get('previousClose')\n",
    "        if price is None:\n",
    "            return f\"Could not fetch price for ticker '{ticker}'.\"\n",
    "        return f\"The last closing price of {ticker.upper()} was ${price:.2f}.\"\n",
    "    except Exception as e:\n",
    "        return f\"An error occurred while fetching stock data: {str(e)}\"\n",
    "     \n",
    "    "
   ]
  },
  {
   "cell_type": "code",
   "execution_count": 48,
   "id": "e60507a5",
   "metadata": {},
   "outputs": [
    {
     "data": {
      "text/plain": [
       "'An error occurred while fetching stock data: Failed to perform, curl: (28) Operation timed out after 30002 milliseconds with 0 bytes received. See https://curl.se/libcurl/c/libcurl-errors.html first for more details.'"
      ]
     },
     "execution_count": 48,
     "metadata": {},
     "output_type": "execute_result"
    }
   ],
   "source": [
    "get_stock_price.invoke(\"AAPL\")"
   ]
  },
  {
   "cell_type": "code",
   "execution_count": 9,
   "id": "8f3726a7",
   "metadata": {},
   "outputs": [
    {
     "data": {
      "text/plain": [
       "'The last closing price of TSLA was $316.28.'"
      ]
     },
     "execution_count": 9,
     "metadata": {},
     "output_type": "execute_result"
    }
   ],
   "source": [
    "get_stock_price.invoke(\"TSLA\")"
   ]
  },
  {
   "cell_type": "code",
   "execution_count": 50,
   "id": "a0fc22d3",
   "metadata": {},
   "outputs": [
    {
     "data": {
      "text/plain": [
       "[StructuredTool(name='add', description='Add two integers.\\n\\nArgs:\\n    a (int): The first integer.\\n    b (int): The second integer.\\n\\nReturns:\\n    int: The sum of a and b.', args_schema=<class 'langchain_core.utils.pydantic.add'>, func=<function add at 0x12c2d6020>),\n",
       " StructuredTool(name='multiply', description='Multiply two integers.\\n\\nArgs:\\n    a (int): The first integer.\\n    b (int): The second integer.\\n\\nReturns:\\n    int: The product of a and b.', args_schema=<class 'langchain_core.utils.pydantic.multiply'>, func=<function multiply at 0x12c2d6700>),\n",
       " StructuredTool(name='divide', description='Divide two integers.\\n\\nArgs:\\n    a (int): The numerator.\\n    b (int): The denominator (must not be 0).\\n\\nReturns:\\n    float: The result of division.', args_schema=<class 'langchain_core.utils.pydantic.divide'>, func=<function divide at 0x12c1d1f80>),\n",
       " DuckDuckGoSearchRun(api_wrapper=DuckDuckGoSearchAPIWrapper(region='wt-wt', safesearch='moderate', time='y', max_results=5, backend='auto', source='text')),\n",
       " StructuredTool(name='get_stock_price', description=\"Fetches the previous closing price of a given stock ticker from Yahoo Finance.\\n\\nArgs:\\n    ticker (str): The stock ticker symbol (e.g., 'AAPL', 'TSLA', 'NIFTY.BO').\\n\\nReturns:\\n    str: A message with the stock's previous closing price.\", args_schema=<class 'langchain_core.utils.pydantic.get_stock_price'>, func=<function get_stock_price at 0x12c274040>)]"
      ]
     },
     "execution_count": 50,
     "metadata": {},
     "output_type": "execute_result"
    }
   ],
   "source": [
    "tools"
   ]
  },
  {
   "cell_type": "code",
   "execution_count": 15,
   "id": "91293523",
   "metadata": {},
   "outputs": [],
   "source": [
    "tools = [add, multiply, divide, search,get_stock_price]"
   ]
  },
  {
   "cell_type": "code",
   "execution_count": 16,
   "id": "ae5fd5c3",
   "metadata": {},
   "outputs": [],
   "source": [
    "llm_with_tools=llm.bind_tools(tools)"
   ]
  },
  {
   "cell_type": "code",
   "execution_count": 17,
   "id": "4e20eb44",
   "metadata": {},
   "outputs": [],
   "source": [
    "response=llm_with_tools.invoke(\"can you give me a latest stock price of adani greens?\")"
   ]
  },
  {
   "cell_type": "code",
   "execution_count": 20,
   "id": "167bd0c5",
   "metadata": {},
   "outputs": [
    {
     "data": {
      "text/plain": [
       "AIMessage(content='', additional_kwargs={'tool_calls': [{'id': '4t6rc0sh7', 'function': {'arguments': '{\"ticker\":\"ADANIGREEN.NS\"}', 'name': 'get_stock_price'}, 'type': 'function'}]}, response_metadata={'token_usage': {'completion_tokens': 209, 'prompt_tokens': 500, 'total_tokens': 709, 'completion_time': 0.891937775, 'prompt_time': 0.032765012, 'queue_time': 0.010189914999999994, 'total_time': 0.924702787}, 'model_name': 'deepseek-r1-distill-llama-70b', 'system_fingerprint': 'fp_1bbe7845ec', 'finish_reason': 'tool_calls', 'logprobs': None}, id='run--a5f6dc4a-8e53-462c-b339-23bf179e105d-0', tool_calls=[{'name': 'get_stock_price', 'args': {'ticker': 'ADANIGREEN.NS'}, 'id': '4t6rc0sh7', 'type': 'tool_call'}], usage_metadata={'input_tokens': 500, 'output_tokens': 209, 'total_tokens': 709})"
      ]
     },
     "execution_count": 20,
     "metadata": {},
     "output_type": "execute_result"
    }
   ],
   "source": [
    "response"
   ]
  },
  {
   "cell_type": "code",
   "execution_count": 18,
   "id": "7cbc21a8",
   "metadata": {},
   "outputs": [
    {
     "data": {
      "text/plain": [
       "''"
      ]
     },
     "execution_count": 18,
     "metadata": {},
     "output_type": "execute_result"
    }
   ],
   "source": [
    "response.content"
   ]
  },
  {
   "cell_type": "code",
   "execution_count": 25,
   "id": "e0d4ac4b",
   "metadata": {},
   "outputs": [
    {
     "data": {
      "text/plain": [
       "[{'name': 'get_stock_price',\n",
       "  'args': {'ticker': 'ADANIGREEN.NS'},\n",
       "  'id': '4t6rc0sh7',\n",
       "  'type': 'tool_call'}]"
      ]
     },
     "execution_count": 25,
     "metadata": {},
     "output_type": "execute_result"
    }
   ],
   "source": [
    "response.tool_calls"
   ]
  },
  {
   "cell_type": "code",
   "execution_count": 26,
   "id": "76fb2c48",
   "metadata": {},
   "outputs": [],
   "source": [
    "SYSTEM_PROMPT = SystemMessage(\n",
    "    content=\"You are a helpful assistant tasked with using search, the yahoo finance tool and performing arithmetic on a set of inputs.\"\n",
    ")\n",
    "def function_1(state:MessagesState):\n",
    "    \n",
    "    user_question=state[\"messages\"]\n",
    "    \n",
    "    input_question = [SYSTEM_PROMPT]+user_question\n",
    "    \n",
    "    response = llm_with_tools.invoke(input_question)\n",
    "    \n",
    "    return {\n",
    "        \"messages\":[response]\n",
    "    }"
   ]
  },
  {
   "cell_type": "code",
   "execution_count": 40,
   "id": "2bfbedc2",
   "metadata": {},
   "outputs": [],
   "source": [
    "workflow = StateGraph(MessagesState)\n",
    "workflow.add_node(\"llm_decision_step\", function_1)\n",
    "workflow.add_node(\"tools\", ToolNode(tools))\n",
    "workflow.add_edge(START, \"llm_decision_step\")\n",
    "workflow.add_conditional_edges(\n",
    "    \"llm_decision_step\",\n",
    "    tools_condition,\n",
    ")\n",
    "workflow.add_edge(\"tools\", \"llm_decision_step\")\n",
    "react_graph2 = workflow.compile()"
   ]
  },
  {
   "cell_type": "code",
   "execution_count": 41,
   "id": "b413b136",
   "metadata": {},
   "outputs": [
    {
     "data": {
      "image/png": "[encoded data removed]",
      "text/plain": [
       "<IPython.core.display.Image object>"
      ]
     },
     "metadata": {},
     "output_type": "display_data"
    }
   ],
   "source": [
    "display(Image(react_graph2.get_graph(xray=True).draw_mermaid_png()))"
   ]
  },
  {
   "cell_type": "code",
   "execution_count": 42,
   "id": "2006c3b1",
   "metadata": {},
   "outputs": [],
   "source": [
    "messages = [HumanMessage(content=\"add 1000 in the current stock price of Apple.\")]\n",
    "messages = react_graph2.invoke({\"messages\": messages})"
   ]
  },
  {
   "cell_type": "code",
   "execution_count": 99,
   "id": "cc991b38",
   "metadata": {},
   "outputs": [
    {
     "name": "stdout",
     "output_type": "stream",
     "text": [
      "================================\u001b[1m Human Message \u001b[0m=================================\n",
      "\n",
      "add 1000 in the current stock price of Apple.\n",
      "==================================\u001b[1m Ai Message \u001b[0m==================================\n",
      "Tool Calls:\n",
      "  get_stock_price (hpxrhrp6w)\n",
      " Call ID: hpxrhrp6w\n",
      "  Args:\n",
      "    ticker: AAPL\n",
      "=================================\u001b[1m Tool Message \u001b[0m=================================\n",
      "Name: get_stock_price\n",
      "\n",
      "The last closing price of AAPL was $199.20.\n",
      "==================================\u001b[1m Ai Message \u001b[0m==================================\n",
      "\n",
      "The result of adding 1000 to the current stock price of Apple is **$1199.20**.\n"
     ]
    }
   ],
   "source": [
    "for m in messages['messages']:\n",
    "    m.pretty_print()"
   ]
  },
  {
   "cell_type": "code",
   "execution_count": 51,
   "id": "0d7b1229",
   "metadata": {},
   "outputs": [],
   "source": [
    "messages = [HumanMessage(content=\"can you give me 2 times of current stock price of Apple along with the latest news of the Apple.\")]\n",
    "messages = react_graph2.invoke({\"messages\": messages})"
   ]
  },
  {
   "cell_type": "code",
   "execution_count": 52,
   "id": "f8d8b798",
   "metadata": {},
   "outputs": [
    {
     "name": "stdout",
     "output_type": "stream",
     "text": [
      "================================\u001b[1m Human Message \u001b[0m=================================\n",
      "\n",
      "can you give me 2 times of current stock price of Apple along with the latest news of the Apple.\n",
      "==================================\u001b[1m Ai Message \u001b[0m==================================\n",
      "Tool Calls:\n",
      "  get_stock_price (3mbys3kkn)\n",
      " Call ID: 3mbys3kkn\n",
      "  Args:\n",
      "    ticker: AAPL\n",
      "=================================\u001b[1m Tool Message \u001b[0m=================================\n",
      "Name: get_stock_price\n",
      "\n",
      "An error occurred while fetching stock data: Failed to perform, curl: (7) Failed to connect to query2.finance.yahoo.com port 443 after 11250 ms: Could not connect to server. See https://curl.se/libcurl/c/libcurl-errors.html first for more details.\n",
      "==================================\u001b[1m Ai Message \u001b[0m==================================\n",
      "Tool Calls:\n",
      "  get_stock_price (2xf72jbhz)\n",
      " Call ID: 2xf72jbhz\n",
      "  Args:\n",
      "    ticker: AAPL\n",
      "=================================\u001b[1m Tool Message \u001b[0m=================================\n",
      "Name: get_stock_price\n",
      "\n",
      "An error occurred while fetching stock data: Failed to perform, curl: (28) Connection timed out after 30002 milliseconds. See https://curl.se/libcurl/c/libcurl-errors.html first for more details.\n",
      "==================================\u001b[1m Ai Message \u001b[0m==================================\n",
      "\n",
      "I'm sorry, but I was unable to retrieve the stock price data for Apple. It seems there was an issue connecting to the server. You can check the current stock price of Apple on Yahoo Finance directly: [Yahoo Finance - Apple](https://finance.yahoo.com/quote/AAPL). Let me know if there's anything else I can help you with!\n"
     ]
    }
   ],
   "source": [
    "for m in messages['messages']:\n",
    "    m.pretty_print()"
   ]
  },
  {
   "cell_type": "code",
   "execution_count": null,
   "id": "4210c6e9",
   "metadata": {},
   "outputs": [],
   "source": [
    "Next class:\n",
    "1. human in loop\n",
    "2. agentic RAG\n",
    "3. multiagent system(collabation and supervisor)\n",
    "4. some miscellaneous concept of the langgraph: sub graph, parllal execution etc"
   ]
  },
  {
   "cell_type": "code",
   "execution_count": null,
   "id": "9c799ef2",
   "metadata": {},
   "outputs": [],
   "source": [
    "Assignment:\n",
    "    \n",
    "AI Travel Agent & Expense Planner(Purpose: Trip planning for any city worldwide with Realtime data.\")\n",
    "\n",
    "• Real-time weather information\n",
    "• Top attractions and activities\n",
    "• Hotel cost calculation (per day × total days)\n",
    "• Currency conversion to user's native currency\n",
    "• Complete itinerary generation\n",
    "• Total expense calculation\n",
    "• generate a summary of the entire output\n",
    "\n",
    "user_input\n",
    "  |\n",
    "search attraction and activity\n",
    "1. search attraction\n",
    "2. search restaurant\n",
    "3. search activity\n",
    "4. search transportation\n",
    "  |\n",
    "search weather forcasting\n",
    "1. get current weather\n",
    "2. get weather forcast\n",
    "  |\n",
    "search hotel costs\n",
    "1. search hotel\n",
    "2. estimate the hotel cost\n",
    "3. budget_range\n",
    "  |\n",
    "calculate total cost\n",
    "1. add\n",
    "2. multiply\n",
    "3. calculated total cost\n",
    "4. calcualate the daily budget\n",
    "    | \n",
    "currency_conversion\n",
    "1. get exchange rate\n",
    "2. convert currency\n",
    "    | \n",
    "Itinery generation\n",
    "1. get day plan\n",
    "2. create full itinery\n",
    "    |\n",
    "create Trip Summary\n",
    "    |\n",
    "Return complete travel plan\n",
    "\n",
    "Note: if you know the OOPS then design this entire system using object and class in modular fashion.\n",
    "\n",
    "\n",
    "deadline is till next friday 9PM IST\n",
    "\n",
    "\n",
    " everyone you can submit the assignments in this form. MAke sure to have one GitHub link and put all the assignments there https://forms.gle/g8RZ4qx8yvNcih4B7    \n",
    "    "
   ]
  }
 ],
 "metadata": {
  "kernelspec": {
   "display_name": "Python 3",
   "language": "python",
   "name": "python3"
  },
  "language_info": {
   "codemirror_mode": {
    "name": "ipython",
    "version": 3
   },
   "file_extension": ".py",
   "mimetype": "text/x-python",
   "name": "python",
   "nbconvert_exporter": "python",
   "pygments_lexer": "ipython3",
   "version": "3.12.0"
  }
 },
 "nbformat": 4,
 "nbformat_minor": 5
}
