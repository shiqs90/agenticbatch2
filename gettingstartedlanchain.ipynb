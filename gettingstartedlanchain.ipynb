{
 "cells": [
  {
   "cell_type": "code",
   "execution_count": 3,
   "metadata": {},
   "outputs": [
    {
     "data": {
      "text/plain": [
       "False"
      ]
     },
     "execution_count": 3,
     "metadata": {},
     "output_type": "execute_result"
    }
   ],
   "source": [
    "import os\n",
    "from dotenv import load_dotenv\n",
    "load_dotenv()"
   ]
  },
  {
   "cell_type": "code",
   "execution_count": null,
   "metadata": {},
   "outputs": [],
   "source": [
    "os.getenv(\"LANGCHAIN_PROJECT\")\n",
    "\n",
    "os.environ[\"OPEN_API_KEY\"]=os.getenv(\"OPEN_API_KEY\")\n",
    "os.environ[\"GROQ_API_KEY\"]=os.getenv(\"GROQ_API_KEY\")\n",
    "\n",
    "#Langsmith tracking & tracing\n",
    "os.environ[\"LANGCHAIN_API_KEY\"]=os.getenv(\"\")\n",
    "os.environ[\"LANGCHAIN_PROJECT\"]=os.getenv(\"\")\n",
    "os.environ[\"LANGCHAIN_TRACING_V2\"]=\"true\"\n",
    "os.environ[\"\"]\n",
    "\n",
    "#ChatOpenAI- Wrapper where you can call an openai key \n",
    "\n",
    "from langchain_openai import ChatOpenAI\n",
    "llm=ChatOpenAI(model=\"o1-mini\")\n",
    "print(llm)\n",
    "#result.invoke\n",
    "\n",
    "from langchain_groq import ChatGroq\n",
    "model=ChatGroq(model=\"qwen-qwq-32b\")\n",
    "model=\n",
    "model.invoke(\"Hi, My name is Shikha\")\n",
    "\n",
    "##Prompt-Engineering###\n",
    "from langchain_core.prompts import ChatPromptTemplate\n",
    "prompt=ChatPromptTemplate.from_messages(\n",
    "    [\n",
    "        (\"system\",\"You are an expert AI engineer. Provide me an answer based on the question\"),\n",
    "        (\"user\", {input})\n",
    "    ]\n",
    "\n",
    "\n",
    ")\n",
    "\n",
    "chain=prompt|model\n",
    "chain\n",
    "\n",
    "response=chain.invoke\n",
    "#chain.invoke({\"input\"})\n",
    "\n",
    "###OutputParser\n",
    "from langchain_core.output_parsers import StrOutputParser\n",
    "output_parser=StrOutputParser\n",
    "\n",
    "chain=prompt|llm|output_parser\n",
    "response=chain.invoke({\"input\":\"Can you tell me something about Langsmith\"})\n",
    "print(response)\n",
    "\n",
    "###OutputParser- JSON\n",
    "from langchain_core.output_parsers import JsonOutputParser\n",
    "output_parser=JsonOutputParser()\n",
    "prompt\n",
    "output_parser.get_format_instructions()\n",
    "\n",
    "\n"
   ]
  }
 ],
 "metadata": {
  "kernelspec": {
   "display_name": "Python 3",
   "language": "python",
   "name": "python3"
  },
  "language_info": {
   "codemirror_mode": {
    "name": "ipython",
    "version": 3
   },
   "file_extension": ".py",
   "mimetype": "text/x-python",
   "name": "python",
   "nbconvert_exporter": "python",
   "pygments_lexer": "ipython3",
   "version": "3.12.0"
  }
 },
 "nbformat": 4,
 "nbformat_minor": 2
}
